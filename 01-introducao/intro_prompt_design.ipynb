{
 "cells": [
  {
   "cell_type": "code",
   "execution_count": 2,
   "metadata": {
    "id": "ur8xi4C7S06n"
   },
   "outputs": [],
   "source": [
    "# Copyright 2023 Google LLC\n",
    "#\n",
    "# Licensed under the Apache License, Version 2.0 (the \"License\");\n",
    "# you may not use this file except in compliance with the License.\n",
    "# You may obtain a copy of the License at\n",
    "#\n",
    "#     https://www.apache.org/licenses/LICENSE-2.0\n",
    "#\n",
    "# Unless required by applicable law or agreed to in writing, software\n",
    "# distributed under the License is distributed on an \"AS IS\" BASIS,\n",
    "# WITHOUT WARRANTIES OR CONDITIONS OF ANY KIND, either express or implied.\n",
    "# See the License for the specific language governing permissions and\n",
    "# limitations under the License."
   ]
  },
  {
   "cell_type": "markdown",
   "metadata": {
    "id": "JAPoU8Sm5E6e"
   },
   "source": [
    "# Boas práticas para a criação de prompts\n",
    "\n",
    "<table align=\"left\">\n",
    "  <td>\n",
    "    <a href=\"https://colab.research.google.com/github/GoogleCloudPlatform/generative-ai/blob/main/language/intro_palm_api.ipynb\">\n",
    "      <img src=\"https://cloud.google.com/ml-engine/images/colab-logo-32px.png\" alt=\"Colab logo\"> Execute no Colab\n",
    "    </a>\n",
    "  </td>\n",
    "  <td>\n",
    "    <a href=\"https://github.com/GoogleCloudPlatform/generative-ai/blob/main/language/intro_palm_api.ipynb\">\n",
    "      <img src=\"https://cloud.google.com/ml-engine/images/github-logo-32px.png\" alt=\"GitHub logo\">\n",
    "      Veja no GitHub\n",
    "    </a>\n",
    "  </td>\n",
    "  <td>\n",
    "    <a href=\"https://console.cloud.google.com/vertex-ai/workbench/deploy-notebook?download_url=https://raw.githubusercontent.com/GoogleCloudPlatform/generative-ai/blob/main/language/intro_palm_api.ipynb\">\n",
    "      <img src=\"https://lh3.googleusercontent.com/UiNooY4LUgW_oTvpsNhPpQzsstV5W8F7rYgxgGBD85cWJoLmrOzhVs_ksK_vgx40SHs7jCqkTkCk=e14-rj-sc0xffffff-h130-w32\" alt=\"Vertex AI logo\">\n",
    "      Execute no Vertex AI Workbench\n",
    "    </a>\n",
    "  </td>\n",
    "</table>"
   ]
  },
  {
   "cell_type": "markdown",
   "metadata": {
    "id": "tvgnzT1CKxrO"
   },
   "source": [
    "## Visão geral\n",
    "\n",
    "Este notebook aborda os fundamentos de design de prompts, incluindo algumas práticas recomendadas.\n",
    "\n",
    "Saiba mais sobre o design de prompt na [documentação oficial](https://cloud.google.com/vertex-ai/docs/generative-ai/text/text-overview)."
   ]
  },
  {
   "cell_type": "markdown",
   "metadata": {
    "id": "d975e698c9a4"
   },
   "source": [
    "### Objetivo\n",
    "\n",
    "Neste notebook, você aprenderá as práticas recomendadas sobre o design de prompts -- como projetar prompts para melhorar a qualidade de suas respostas.\n",
    "\n",
    "Este notebook abrange as seguintes práticas recomendadas para engenharia imediata:\n",
    "\n",
    "- Ser conciso\n",
    "- Seja específico e com um texto bem definido\n",
    "- Peça uma tarefa de cada vez\n",
    "- Transforme tarefas generativas em tarefas de classificação\n",
    "- Melhore a qualidade da resposta incluindo exemplos"
   ]
  },
  {
   "cell_type": "markdown",
   "metadata": {
    "id": "ea013f50403c"
   },
   "source": [
    "### Custos\n",
    "Este tutorial usa os seguintes componentes de Google Cloud:\n",
    "\n",
    "* Vertex AI Generative AI Studio\n",
    "\n",
    "Saiba mais sobre possíveis custos envolvidos [preços da Vertex AI](https://cloud.google.com/vertex-ai/pricing),\n",
    "e use a [Calculadora de preços](https://cloud.google.com/products/calculator/)\n",
    "para gerar uma estimativa de custo com base no uso projetado."
   ]
  },
  {
   "cell_type": "markdown",
   "metadata": {},
   "source": [
    "## Primeiros Passos"
   ]
  },
  {
   "cell_type": "markdown",
   "metadata": {
    "id": "3e663cb43fa0"
   },
   "source": [
    "### Instalando os SDK da Vertex AI e da Cloud Translate API"
   ]
  },
  {
   "cell_type": "code",
   "execution_count": 3,
   "metadata": {
    "id": "82ad0c445061",
    "scrolled": true,
    "tags": []
   },
   "outputs": [],
   "source": [
    "# !pip install google-cloud-aiplatform --upgrade --user"
   ]
  },
  {
   "cell_type": "markdown",
   "metadata": {
    "id": "cebd6983cbad"
   },
   "source": [
    "**Somente Colab:** Descomente a célula a seguir para reiniciar o kernel ou use o botão para reiniciar o kernel."
   ]
  },
  {
   "cell_type": "code",
   "execution_count": 4,
   "metadata": {
    "id": "bea801acf6b5"
   },
   "outputs": [],
   "source": [
    "# # Reinicia automaticamente o kernel após as instalações para que seu ambiente possa acessar os novos pacotes\n",
    "# import IPython\n",
    "\n",
    "# app = IPython.Application.instance()\n",
    "# app.kernel.do_shutdown(True)"
   ]
  },
  {
   "cell_type": "markdown",
   "metadata": {
    "id": "7a386d25fa8f"
   },
   "source": [
    "### Autenticando seu ambiente de notebook\n",
    "* Se você estiver usando o **Colab** para executar este notebook, descomente a célula abaixo e continue.\n",
    "* Se você estiver usando o **Vertex AI Workbench**, confira as instruções de configuração [aqui](../setup-env/README.md)."
   ]
  },
  {
   "cell_type": "code",
   "execution_count": 5,
   "metadata": {
    "id": "1bd1dca8e9a7"
   },
   "outputs": [],
   "source": [
    "# from google.colab import auth\n",
    "# auth.authenticate_user()"
   ]
  },
  {
   "cell_type": "markdown",
   "metadata": {
    "id": "960505627ddf"
   },
   "source": [
    "### Importando as bibliotecas necessárias"
   ]
  },
  {
   "cell_type": "markdown",
   "metadata": {},
   "source": [
    "**Somente Colab:** Descomente a célula a seguir para realizar o processo adequado de inicialização da SDK da Vertex AI.  "
   ]
  },
  {
   "cell_type": "code",
   "execution_count": 6,
   "metadata": {},
   "outputs": [],
   "source": [
    "# import vertexai\n",
    "\n",
    "# PROJECT_ID = \"[seu-project-id]\"  # @param {type:\"string\"}\n",
    "# vertexai.init(project=PROJECT_ID, location=\"us-central1\")"
   ]
  },
  {
   "cell_type": "code",
   "execution_count": 7,
   "metadata": {
    "id": "PyQmSRbKA8r-"
   },
   "outputs": [],
   "source": [
    "from vertexai.preview.language_models import TextGenerationModel"
   ]
  },
  {
   "cell_type": "markdown",
   "metadata": {
    "id": "UP76a2la7O-a"
   },
   "source": [
    "#### Carregando o modelo `text-bison`"
   ]
  },
  {
   "cell_type": "code",
   "execution_count": 8,
   "metadata": {
    "id": "7isig7e07O-a"
   },
   "outputs": [],
   "source": [
    "generation_model = TextGenerationModel.from_pretrained(\"text-bison@001\")"
   ]
  },
  {
   "cell_type": "markdown",
   "metadata": {
    "id": "fIPcn5dZ7O-b"
   },
   "source": [
    "## Boas práticas de design de prompts"
   ]
  },
  {
   "cell_type": "markdown",
   "metadata": {
    "id": "df7d153f4928"
   },
   "source": [
    "A engenharia de prompt trata de como projetar seus prompts para que a resposta seja o que você realmente esperava ver.\n",
    "\n",
    "A ideia de usar prompts \"desagradáveis\" é minimizar o ruído em seu prompt para reduzir a possibilidade de o LLM interpretar mal a intenção do prompt. Abaixo estão algumas diretrizes sobre como projetar prompts \"desagradáveis\".\n",
    "\n",
    "Nesta seção, você abordará as seguintes práticas recomendadas quando a engenharia solicitar:\n",
    "\n",
    "* Ser conciso\n",
    "* Seja específico e com texto bem definido\n",
    "* Peça uma tarefa de cada vez\n",
    "* Melhore a qualidade da resposta incluindo exemplos\n",
    "* Transforme tarefas generativas em tarefas de classificação para melhorar a segurança"
   ]
  },
  {
   "cell_type": "markdown",
   "metadata": {
    "id": "43c1169ac435"
   },
   "source": [
    "### Seja conciso"
   ]
  },
  {
   "cell_type": "markdown",
   "metadata": {
    "id": "d0f380f1620e"
   },
   "source": [
    "🛑 Não recomendado. O prompt abaixo é desnecessariamente detalhado."
   ]
  },
  {
   "cell_type": "code",
   "execution_count": 9,
   "metadata": {
    "id": "b6a1697c3603"
   },
   "outputs": [
    {
     "name": "stdout",
     "output_type": "stream",
     "text": [
      "* **Flores Secas**\n",
      "* **Flores Preservadas**\n",
      "* **Flores Eternas**\n",
      "* **Flores Intemporais**\n",
      "* **Flores Atemporais**\n",
      "* **Flores Inesquecíveis**\n",
      "* **Flores Eternizadas**\n",
      "* **Flores Para Sempre**\n",
      "* **Flores que Duram**\n",
      "* **Flores que Não Morrem**\n",
      "* **Flores que Não Envelhecem**\n",
      "* **Flores que Não Perdem a Cor**\n",
      "* **Flores que Não Perdem o Brilho**\n",
      "* **Flores que Não Perdem o Aroma**\n",
      "* **Flores que Não Perdem a Beleza**\n",
      "* **Flores que Não Perdem o Charme**\n",
      "* **Flores que Não Perdem o Toque**\n",
      "* **Flores que Não Perdem o Significado**\n",
      "* **Flores que Não Perdem o Valor**\n",
      "* **Flores que Não Perdem a Importância**\n",
      "* **Flores que Não Perdem o Amor**\n"
     ]
    }
   ],
   "source": [
    "prompt = \"Que nomes você acha que seriam interessantes para uma floricultura que se especializa mais em buquês de flores secas do que frescas? Muitíssimo brigado!\"\n",
    "\n",
    "print(generation_model.predict(prompt=prompt, max_output_tokens=256).text)"
   ]
  },
  {
   "cell_type": "markdown",
   "metadata": {
    "id": "2307f56a9b75"
   },
   "source": [
    "✅ Recomendado. O prompt abaixo é direto ao ponto e conciso."
   ]
  },
  {
   "cell_type": "code",
   "execution_count": 10,
   "metadata": {
    "id": "fc666404f47c"
   },
   "outputs": [
    {
     "name": "stdout",
     "output_type": "stream",
     "text": [
      "* **Flores Secas**\n",
      "* **Buquês Secos**\n",
      "* **Flores Eternas**\n",
      "* **Flores Preservadas**\n",
      "* **Flores Desidratadas**\n"
     ]
    }
   ],
   "source": [
    "prompt = \"Sugira cinco nomes para uma floricultura que vende buquês de flores secas\"\n",
    "\n",
    "print(generation_model.predict(prompt=prompt, max_output_tokens=256).text)"
   ]
  },
  {
   "cell_type": "markdown",
   "metadata": {
    "id": "17f6c48bba91"
   },
   "source": [
    "### Seja específico e escreva textos bem definidos"
   ]
  },
  {
   "cell_type": "markdown",
   "metadata": {
    "id": "269b428e1563"
   },
   "source": [
    "Suponha que você queira pensar em maneiras criativas de descrever a Terra."
   ]
  },
  {
   "cell_type": "markdown",
   "metadata": {
    "id": "6436ee2ff406"
   },
   "source": [
    "🛑 Não recomendado. O prompt abaixo é muito genérico."
   ]
  },
  {
   "cell_type": "code",
   "execution_count": 11,
   "metadata": {
    "id": "261b7f6e94c5"
   },
   "outputs": [
    {
     "name": "stdout",
     "output_type": "stream",
     "text": [
      "A Terra é o terceiro planeta do Sistema Solar, o único que se sabe ser habitado por seres vivos. É um planeta rochoso com uma atmosfera respirável e uma hidrosfera abundante. A Terra é o maior dos quatro planetas telúricos do Sistema Solar, e é o único com uma crosta oceânica contínua. A Terra é o único planeta conhecido que tem vida, e é o único planeta que foi visitado por seres humanos.\n",
      "\n",
      "A Terra tem uma superfície dinâmica, com placas tectônicas que se movem constantemente. A atividade tectônica é responsável pela formação de montanhas, vulcões e terremotos. A Terra também tem uma atmosfera dinâmica, que é composta principalmente de nitrogênio e oxigênio. A atmosfera protege a Terra da radiação solar nociva e ajuda a manter a temperatura do planeta em um nível adequado para a vida.\n",
      "\n",
      "A Terra tem uma hidrosfera abundante, que é composta de oceanos, mares, rios e lagos. A hidrosfera cobre cerca de 70% da superfície da Terra. A hidrosfera é importante para a vida na Terra, pois fornece água para beber, irrigação e transporte. A hidrosfera também ajuda a regular o clima da Terra.\n",
      "\n",
      "A\n"
     ]
    }
   ],
   "source": [
    "prompt = \"Fale-me sobre a Terra\"\n",
    "\n",
    "print(generation_model.predict(prompt=prompt, max_output_tokens=256).text)"
   ]
  },
  {
   "cell_type": "markdown",
   "metadata": {
    "id": "0bebfecd2912"
   },
   "source": [
    "✅ Recomendado. O prompt abaixo é específico e bem definido."
   ]
  },
  {
   "cell_type": "code",
   "execution_count": 12,
   "metadata": {
    "id": "242b1b3bae6e"
   },
   "outputs": [
    {
     "name": "stdout",
     "output_type": "stream",
     "text": [
      "* A Terra é o único planeta conhecido que abriga vida.\n",
      "* A Terra tem uma atmosfera rica em oxigênio, que é essencial para a vida.\n",
      "* A Terra tem água líquida em sua superfície, que é essencial para a vida.\n",
      "* A Terra tem uma temperatura adequada para a vida, nem muito quente nem muito fria.\n",
      "* A Terra tem um campo magnético que protege a vida da radiação solar.\n",
      "* A Terra tem um tamanho e uma massa adequados para a vida.\n",
      "* A Terra está localizada na zona habitável do Sistema Solar, o que significa que está a uma distância adequada do Sol para permitir a existência de água líquida na superfície.\n",
      "\n",
      "Esses são apenas alguns dos motivos que tornam a Terra um planeta único e especial. É um lugar onde a vida pode florescer e se desenvolver, e é um lugar que devemos proteger.\n"
     ]
    }
   ],
   "source": [
    "prompt = \"Gere uma lista de motivos que fazem a Terra ser única comparada à outros planetas\"\n",
    "\n",
    "print(generation_model.predict(prompt=prompt, max_output_tokens=256).text)"
   ]
  },
  {
   "cell_type": "markdown",
   "metadata": {
    "id": "20dca9a05eab"
   },
   "source": [
    "### Peça uma tarefa de cada vez"
   ]
  },
  {
   "cell_type": "markdown",
   "metadata": {
    "id": "f9019d443179"
   },
   "source": [
    "🛑 Não recomendado. O prompt abaixo tem duas partes para a pergunta que pode ser feita separadamente."
   ]
  },
  {
   "cell_type": "code",
   "execution_count": 13,
   "metadata": {
    "id": "70b3b5e5825d"
   },
   "outputs": [
    {
     "name": "stdout",
     "output_type": "stream",
     "text": [
      "A melhor forma de ferver água é usando uma panela com fundo grosso e tampa. Coloque a água na panela e leve ao fogo médio. Quando a água começar a ferver, reduza o fogo para baixo e deixe ferver por mais alguns minutos. Desligue o fogo e deixe a água repousar por alguns minutos antes de usar.\n",
      "\n",
      "O céu é azul porque a luz do Sol é composta de várias cores, incluindo o azul. Quando a luz do Sol atinge a atmosfera da Terra, as partículas de ar espalham as cores da luz em todas as direções. As partículas de ar espalham mais as cores da luz que têm comprimentos de onda mais curtos, como o azul. Por isso, vemos o céu azul.\n"
     ]
    }
   ],
   "source": [
    "prompt = \"Qual é a melhor forma para ferver água e por que o céu é azul?\"\n",
    "\n",
    "print(generation_model.predict(prompt=prompt, max_output_tokens=256).text)"
   ]
  },
  {
   "cell_type": "markdown",
   "metadata": {
    "id": "7936fb58c16a"
   },
   "source": [
    "✅ Recomendado. Os prompts abaixo solicitam uma tarefa por vez."
   ]
  },
  {
   "cell_type": "code",
   "execution_count": 14,
   "metadata": {
    "id": "2564dad6c8db"
   },
   "outputs": [
    {
     "name": "stdout",
     "output_type": "stream",
     "text": [
      "A melhor forma para ferver água é usando uma chaleira elétrica. As chaleiras elétricas são seguras, eficientes e fáceis de usar. Elas também são mais rápidas do que ferver água em uma panela no fogão.\n",
      "\n",
      "Para usar uma chaleira elétrica, basta encher a chaleira com água até a marca indicada e ligar o aparelho. A chaleira começará a ferver a água em poucos minutos. Quando a água estiver fervendo, você ouvirá um sinal sonoro. Você pode então desligar o aparelho e despejar a água fervente em uma xícara ou caneca.\n",
      "\n",
      "As chaleiras elétricas são uma ótima opção para quem quer ferver água rapidamente e com segurança. Elas são também uma ótima opção para quem quer economizar energia, pois são mais eficientes do que ferver água em uma panela no fogão.\n"
     ]
    }
   ],
   "source": [
    "prompt = \"Qual é a melhor forma para ferver água?\"\n",
    "\n",
    "print(generation_model.predict(prompt=prompt, max_output_tokens=256).text)"
   ]
  },
  {
   "cell_type": "code",
   "execution_count": 15,
   "metadata": {
    "id": "770c695ade92"
   },
   "outputs": [
    {
     "name": "stdout",
     "output_type": "stream",
     "text": [
      "O céu é azul porque a luz do Sol é espalhada pelas moléculas de ar na atmosfera. A luz do Sol é composta de todas as cores do arco-íris, mas as cores azuis são espalhadas mais do que as outras cores. Isso porque as moléculas de ar são menores do que as outras cores da luz do Sol, e elas interagem mais com as ondas de luz azuis. As outras cores da luz do Sol não são espalhadas tanto, então elas viajam para o nosso olho diretamente do Sol.\n",
      "\n",
      "A quantidade de espalhamento da luz azul depende da quantidade de moléculas de ar na atmosfera. Quando o ar está mais limpo, há menos moléculas de ar para espalhar a luz azul, então o céu parece mais azul. Quando o ar está mais poluído, há mais moléculas de ar para espalhar a luz azul, então o céu parece mais cinza ou branco.\n",
      "\n",
      "O ângulo do Sol também afeta a cor do céu. Quando o Sol está baixo no horizonte, a luz do Sol tem que viajar através de mais da atmosfera para chegar ao nosso olho. Isso significa que mais luz azul é espalhada, então o céu parece mais azul. Quando o Sol está alto no céu, a luz do Sol não tem que\n"
     ]
    }
   ],
   "source": [
    "prompt = \"Por que o céu é azul?\"\n",
    "\n",
    "print(generation_model.predict(prompt=prompt, max_output_tokens=256).text)"
   ]
  },
  {
   "cell_type": "markdown",
   "metadata": {
    "id": "ff606011aa86"
   },
   "source": [
    "### Cuidado com as alucinações"
   ]
  },
  {
   "cell_type": "markdown",
   "metadata": {
    "id": "956ce45b06a7"
   },
   "source": [
    "Embora os LLMs tenham sido treinados em uma grande quantidade de dados, eles podem gerar textos contendo declarações não fundamentadas na verdade ou na realidade; essas respostas do LLM são frequentemente chamadas de \"alucinações\" devido às suas capacidades limitadas de memorização. Observe que simplesmente solicitar que o LLM forneça uma citação não é uma solução para esse problema, pois há instâncias de LLMs que fornecem citações falsas ou imprecisas. \n",
    "\n",
    "Lidar com alucinações é um desafio fundamental dos LLMs e uma área de pesquisa em andamento, por isso é importante estar ciente de que os LLMs podem parecer dar a você declarações confiantes e corretas que, na verdade, são incorretas.\n",
    "\n",
    "Observe que, se você pretende usar LLMs para os casos de uso criativo, alucinar pode ser bastante útil."
   ]
  },
  {
   "cell_type": "markdown",
   "metadata": {
    "id": "0c9d5f66179a"
   },
   "source": [
    "Tente o prompt como o abaixo repetidamente. Você pode notar que às vezes ele dirá com confiança, mas imprecisamente, \"O primeiro elefante a visitar a lua foi Luna\"."
   ]
  },
  {
   "cell_type": "code",
   "execution_count": 16,
   "metadata": {
    "id": "d813b9061b08"
   },
   "outputs": [
    {
     "name": "stdout",
     "output_type": "stream",
     "text": [
      "O primeiro elefante a visitar a lua foi o elefante Babar. Babar foi um elefante criado pelo autor francês Jean de Brunhoff. Babar foi criado em 1931 e apareceu em vários livros e filmes. Babar é um elefante muito inteligente e corajoso que sempre está pronto para ajudar os outros. Ele é um grande amigo e um líder sábio. Babar é um personagem muito popular e tem sido amado por crianças de todo o mundo por gerações.\n"
     ]
    }
   ],
   "source": [
    "prompt = \"Quem foi o primeiro elefante a visitar a lua?\"\n",
    "\n",
    "print(generation_model.predict(prompt=prompt, max_output_tokens=256).text)"
   ]
  },
  {
   "cell_type": "markdown",
   "metadata": {
    "id": "029e23abfd56"
   },
   "source": [
    "### Transforme tarefas generativas em tarefas de classificação para reduzir a variabilidade de saída"
   ]
  },
  {
   "cell_type": "markdown",
   "metadata": {
    "id": "d943941d6e59"
   },
   "source": [
    "#### Tarefas generativas levam a uma maior variabilidade de saída"
   ]
  },
  {
   "cell_type": "markdown",
   "metadata": {
    "id": "37528e6c9754"
   },
   "source": [
    "O prompt abaixo resulta em uma resposta aberta, útil para brainstorming, mas a resposta é altamente variável."
   ]
  },
  {
   "cell_type": "code",
   "execution_count": 17,
   "metadata": {
    "id": "a8e2dc39e9ae"
   },
   "outputs": [
    {
     "name": "stdout",
     "output_type": "stream",
     "text": [
      "* **Faça projetos pessoais.** Um ótimo jeito de aprender programação é fazer projetos pessoais que você se interesse. Isso pode ser qualquer coisa, desde um jogo simples até um aplicativo para celular. Quando você está trabalhando em um projeto que você se importa, você é mais propenso a ficar motivado e aprender mais.\n",
      "* **Leia artigos e livros sobre programação.** Há muitos recursos disponíveis online e na biblioteca que podem ajudá-lo a aprender mais sobre programação. Leia artigos sobre tópicos que você está interessado, ou confira livros sobre programação que podem ajudá-lo a desenvolver suas habilidades.\n",
      "* **Assista a vídeos sobre programação.** Há muitos vídeos excelentes sobre programação disponíveis no YouTube e em outros sites. Assistir a vídeos pode ser uma ótima maneira de aprender sobre novos conceitos e técnicas de programação.\n",
      "* **Faça cursos online.** Existem muitos cursos online gratuitos e pagos que podem ajudá-lo a aprender programação. Alguns dos cursos mais populares são oferecidos pela Coursera, Udacity e edX.\n",
      "* **Participe de comunidades de programação.** Existem muitas comunidades online de programação onde você pode fazer perguntas, obter ajuda e compartilhar seus projetos. Algumas das comunidades mais populares são Stack Overflow, Reddit e GitHub.\n",
      "* **\n"
     ]
    }
   ],
   "source": [
    "prompt = \"Sou um estudante de ensino médio. Recomende-me atividades de programação para melhorar meus skills\"\n",
    "\n",
    "print(generation_model.predict(prompt=prompt, max_output_tokens=256).text)"
   ]
  },
  {
   "cell_type": "markdown",
   "metadata": {
    "id": "f71a6fa2b4bb"
   },
   "source": [
    "#### Tarefas de classificação reduzem a variabilidade de saída"
   ]
  },
  {
   "cell_type": "markdown",
   "metadata": {
    "id": "917517465dac"
   },
   "source": [
    "O prompt abaixo resulta em uma escolha e pode ser útil se você quiser que a saída seja mais fácil de controlar."
   ]
  },
  {
   "cell_type": "code",
   "execution_count": 18,
   "metadata": {
    "id": "3feb93d9df81"
   },
   "outputs": [
    {
     "name": "stdout",
     "output_type": "stream",
     "text": [
      "Eu recomendaria aprender Python. Python é uma linguagem de programação de alto nível, interpretada, de uso geral, com sintaxe fácil de ler e aprender. É uma linguagem multiparadigma, o que significa que pode ser usada para desenvolver programas de diferentes tipos, incluindo aplicativos de desktop, aplicativos móveis, servidores web e sistemas de big data. Python é também uma linguagem muito popular, sendo usada por empresas como Google, Facebook, Amazon e Netflix.\n",
      "\n",
      "Javascript é outra linguagem de programação popular, mas é mais adequada para desenvolvimento web. Fortran é uma linguagem de programação mais antiga, que é principalmente usada para desenvolvimento de aplicações científicas e de engenharia.\n",
      "\n",
      "Portanto, se você está procurando uma linguagem de programação que seja fácil de aprender e que possa ser usada para desenvolver uma variedade de programas, eu recomendaria Python.\n"
     ]
    }
   ],
   "source": [
    "prompt = \"\"\"Sou um estudante de ensino médio. Quais destas atividades você recomenda e porquê:\n",
    "a) Aprender Python\n",
    "b) Aprender Javascript\n",
    "c) Aprender Fortran\n",
    "\"\"\"\n",
    "\n",
    "print(generation_model.predict(prompt=prompt, max_output_tokens=256).text)"
   ]
  },
  {
   "cell_type": "markdown",
   "metadata": {
    "id": "32290ac9fb2b"
   },
   "source": [
    "### Melhore a qualidade da resposta incluindo exemplos"
   ]
  },
  {
   "cell_type": "markdown",
   "metadata": {
    "id": "132834f5db2c"
   },
   "source": [
    "Outra maneira de melhorar a qualidade da resposta é adicionar exemplos em seu prompt. O LLM aprende no contexto dos exemplos sobre como responder. Normalmente, um a cinco exemplos (shots) são suficientes para melhorar a qualidade das respostas. Incluir muitos exemplos pode fazer com que o modelo ajuste demais os dados e reduza a qualidade das respostas.\n",
    "\n",
    "Semelhante ao treinamento de modelo clássico, a qualidade e a distribuição dos exemplos são muito importantes. Escolha exemplos representativos dos cenários que você precisa que o modelo aprenda e mantenha a distribuição dos exemplos (por exemplo, número de exemplos por classe no caso de classificação) alinhada com sua distribuição real."
   ]
  },
  {
   "cell_type": "markdown",
   "metadata": {
    "id": "46520d938b6a"
   },
   "source": [
    "#### Zero-shot prompt"
   ]
  },
  {
   "cell_type": "markdown",
   "metadata": {
    "id": "46d3b47e6cea"
   },
   "source": [
    "Abaixo está um exemplo de prompt zero-shot, onde você não fornece nenhum exemplo para o LLM dentro do próprio prompt."
   ]
  },
  {
   "cell_type": "code",
   "execution_count": 19,
   "metadata": {
    "id": "2cbe03eb0b71"
   },
   "outputs": [
    {
     "name": "stdout",
     "output_type": "stream",
     "text": [
      "positivo\n"
     ]
    }
   ],
   "source": [
    "prompt = \"\"\"Decida se um Tweet apresenta um sentimento positivo, negativo ou neutro.\n",
    "\n",
    "Tweet: Eu amei os seus videos mais recentes no YouTube!\n",
    "Sentimento: \n",
    "\"\"\"\n",
    "\n",
    "print(generation_model.predict(prompt=prompt, max_output_tokens=256).text)"
   ]
  },
  {
   "cell_type": "markdown",
   "metadata": {
    "id": "b0daabca1359"
   },
   "source": [
    "#### One-shot prompt"
   ]
  },
  {
   "cell_type": "markdown",
   "metadata": {
    "id": "42c4652fc5c2"
   },
   "source": [
    "Abaixo está um exemplo one-shot, onde você fornece um exemplo para o LLM dentro do prompt para fornecer alguma orientação sobre o tipo de resposta que você deseja."
   ]
  },
  {
   "cell_type": "code",
   "execution_count": 20,
   "metadata": {
    "id": "cfe584860787"
   },
   "outputs": [
    {
     "name": "stdout",
     "output_type": "stream",
     "text": [
      "negativo\n"
     ]
    }
   ],
   "source": [
    "prompt = \"\"\"Decida se um Tweet apresenta um sentimento positivo, negativo ou neutro.\n",
    "\n",
    "Tweet: Eu amei os seus videos mais recentes no YouTube!\n",
    "Sentimento: positivo\n",
    "\n",
    "Tweet: Foi difícil. Super chato 😠\n",
    "Sentimento:\n",
    "\"\"\"\n",
    "\n",
    "print(generation_model.predict(prompt=prompt, max_output_tokens=256).text)"
   ]
  },
  {
   "cell_type": "markdown",
   "metadata": {
    "id": "ef58c35005c0"
   },
   "source": [
    "#### Few-shot prompt"
   ]
  },
  {
   "cell_type": "markdown",
   "metadata": {
    "id": "b630e8947b60"
   },
   "source": [
    "Abaixo está um exemplo de few-shot, onde você fornece um exemplo para o LLM dentro do prompt para dar alguma orientação sobre o tipo de resposta que você deseja."
   ]
  },
  {
   "cell_type": "code",
   "execution_count": 21,
   "metadata": {
    "id": "fb3ba21bbd11"
   },
   "outputs": [
    {
     "name": "stdout",
     "output_type": "stream",
     "text": [
      "positivo\n"
     ]
    }
   ],
   "source": [
    "prompt = \"\"\"Decida se um Tweet apresenta um sentimento positivo, negativo ou neutro.\n",
    "\n",
    "Tweet: Eu amei os seus videos mais recentes no YouTube!\n",
    "Sentimento: positivo\n",
    "\n",
    "Tweet: Foi difícil. Super chato 😠\n",
    "Sentimento: negativo\n",
    "\n",
    "Tweet: Uma coisa me surpreendeu neste video - Ele foi realmente original. Ele não foi o mesmo velho conteúdo reciclado. Assista - você não se arrependerá.\n",
    "Sentimento:\n",
    "\"\"\"\n",
    "\n",
    "print(generation_model.predict(prompt=prompt, max_output_tokens=256).text)"
   ]
  },
  {
   "cell_type": "markdown",
   "metadata": {
    "id": "a4023be726eb"
   },
   "source": [
    "#### Escolhendo entre os métodos zero-shot, one-shot ou few-shot"
   ]
  },
  {
   "cell_type": "markdown",
   "metadata": {
    "id": "6d7870ff75cc"
   },
   "source": [
    "Qual técnica de prompt usar dependerá exclusivamente do seu objetivo. Os prompts zero-shot são mais abertos e podem fornecer respostas criativas, enquanto os prompts one-shot e few-shot ensinam o modelo a se comportar para que você possa obter respostas mais previsíveis que sejam consistentes com os exemplos fornecidos."
   ]
  }
 ],
 "metadata": {
  "colab": {
   "name": "intro_prompt_design.ipynb",
   "toc_visible": true
  },
  "environment": {
   "kernel": "py310",
   "name": "pytorch-gpu.2-0.m110",
   "type": "gcloud",
   "uri": "gcr.io/deeplearning-platform-release/pytorch-gpu.2-0:m110"
  },
  "kernelspec": {
   "display_name": "py310",
   "language": "python",
   "name": "py310"
  },
  "language_info": {
   "codemirror_mode": {
    "name": "ipython",
    "version": 3
   },
   "file_extension": ".py",
   "mimetype": "text/x-python",
   "name": "python",
   "nbconvert_exporter": "python",
   "pygments_lexer": "ipython3",
   "version": "3.10.12"
  }
 },
 "nbformat": 4,
 "nbformat_minor": 4
}
