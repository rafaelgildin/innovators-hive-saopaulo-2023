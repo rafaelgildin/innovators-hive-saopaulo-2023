{
 "cells": [
  {
   "cell_type": "code",
   "execution_count": 10,
   "metadata": {
    "id": "ijGzTHJJUCPY"
   },
   "outputs": [],
   "source": [
    "# Copyright 2023 Google LLC\n",
    "#\n",
    "# Licensed under the Apache License, Version 2.0 (the \"License\");\n",
    "# you may not use this file except in compliance with the License.\n",
    "# You may obtain a copy of the License at\n",
    "#\n",
    "#     https://www.apache.org/licenses/LICENSE-2.0\n",
    "#\n",
    "# Unless required by applicable law or agreed to in writing, software\n",
    "# distributed under the License is distributed on an \"AS IS\" BASIS,\n",
    "# WITHOUT WARRANTIES OR CONDITIONS OF ANY KIND, either express or implied.\n",
    "# See the License for the specific language governing permissions and\n",
    "# limitations under the License."
   ]
  },
  {
   "cell_type": "markdown",
   "metadata": {
    "id": "VEqbX8OhE8y9"
   },
   "source": [
    "# Primeiros passos com a Vertex AI PaLM API e Python SDK\n",
    "\n",
    "<table align=\"left\">\n",
    "  <td>\n",
    "    <a href=\"https://colab.research.google.com/github/GoogleCloudPlatform/generative-ai/blob/main/language/intro_palm_api.ipynb\">\n",
    "      <img src=\"https://cloud.google.com/ml-engine/images/colab-logo-32px.png\" alt=\"Colab logo\"> Execute no Colab\n",
    "    </a>\n",
    "  </td>\n",
    "  <td>\n",
    "    <a href=\"https://github.com/GoogleCloudPlatform/generative-ai/blob/main/language/intro_palm_api.ipynb\">\n",
    "      <img src=\"https://cloud.google.com/ml-engine/images/github-logo-32px.png\" alt=\"GitHub logo\">\n",
    "      Veja no GitHub\n",
    "    </a>\n",
    "  </td>\n",
    "  <td>\n",
    "    <a href=\"https://console.cloud.google.com/vertex-ai/workbench/deploy-notebook?download_url=https://raw.githubusercontent.com/GoogleCloudPlatform/generative-ai/blob/main/language/intro_palm_api.ipynb\">\n",
    "      <img src=\"https://lh3.googleusercontent.com/UiNooY4LUgW_oTvpsNhPpQzsstV5W8F7rYgxgGBD85cWJoLmrOzhVs_ksK_vgx40SHs7jCqkTkCk=e14-rj-sc0xffffff-h130-w32\" alt=\"Vertex AI logo\">\n",
    "      Execute no Vertex AI Workbench\n",
    "    </a>\n",
    "  </td>\n",
    "</table>"
   ]
  },
  {
   "cell_type": "markdown",
   "metadata": {
    "id": "VK1Q5ZYdVL4Y"
   },
   "source": [
    "## Visão geral\n",
    "\n",
    "### O que são LLMs?\n",
    "Modelos de linguagem grandes (ou *Large Language Models* ou simplesmente *LLMs*) são modelos de aprendizado profundo treinados em conjuntos de dados massivos de texto. Os LLMs podem traduzir linguagem, resumir texto, gerar escrita criativa, gerar código, capacitar chatbots e assistentes virtuais e complementar mecanismos de pesquisa e sistemas de recomendação.\n",
    "\n",
    "### PaLM 2\n",
    "Seguindo seu antecessor, [PaLM](https://ai.googleblog.com/2022/04/pathways-language-model-palm-scaling-to.html), [PaLM 2](https://ai.google/ Discover/palm2) é um LLM do Google que se baseia nas pesquisas do Google em aprendizado de máquina e IA responsável. O PaLM 2 se destaca em tarefas como criação de textos, tradução e geração de código devido à forma como foi construído.\n",
    "\n",
    "PaLM 2 [se destaca](https://ai.google/static/documents/palm2techreport.pdf) em tarefas como geração de código e tarefas matemática, classificação e respostas a perguntas, tradução e proficiência multilíngue e geração de linguagem natural melhor do que LLMs anteriores, incluindo PaLM. Ele pode realizar essas tarefas devido à forma como foi construído – reunindo dimensionamento otimizado para computação, uma mistura aprimorada de conjunto de dados e melhorias na arquitetura do modelo.\n",
    "\n",
    "O PaLM 2 é baseado na abordagem do Google para criar e implantar IA de forma responsável. Ele foi avaliado rigorosamente para analisar possíveis danos e vieses, recursos e usos posteriores em pesquisas e aplicações em produtos. Ele está sendo usado em outros modelos de última geração, como Med-PaLM 2 e Sec-PaLM, e está alimentando recursos e ferramentas generativas de IA no Google, como Bard e a API PaLM.\n",
    "\n",
    "O PaLM 2 é pré-treinado em uma ampla gama de dados de texto usando uma abordagem de aprendizado não supervisionado, sem nenhuma tarefa específica. Durante esse processo de pré-treinamento, o PaLM aprende a prever a próxima palavra em uma frase, considerando as palavras anteriores. Isso permite que o modelo gere texto coerente e fluente, semelhante à escrita humana.\n",
    "Esse tamanho grande permite aprender padrões e relacionamentos complexos na linguagem e gerar texto de alta qualidade para vários aplicativos. É por isso que modelos como o PaLM são chamados de \"modelos fundamentais\".\n",
    "\n",
    "A criação de um LLM requer grandes quantidades de dados, recursos de computação significativos e habilidades especializadas. Como os LLMs exigem um grande investimento para serem criados, eles visam casos de uso amplos e não específicos. Na Vertex AI, você pode personalizar um modelo de base para tarefas ou domínios de conhecimento mais específicos usando design de prompt e ajuste de modelo.\n",
    "\n",
    "### Vertex AI PaLM API\n",
    "A Vertex AI PaLM API, [lançada em 10 de maio de 2023](https://cloud.google.com/vertex-ai/docs/generative-ai/release-notes#may_10_2023), é desenvolvida com [PaLM 2]( https://ai.google/discover/palm2).\n",
    "\n",
    "### Usando a API Vertex AI PaLM\n",
    "\n",
    "Você pode interagir com a API Vertex AI PaLM usando os seguintes métodos:\n",
    "\n",
    "* Use a UI da [Generative AI Studio](https://cloud.google.com/generative-ai-studio) para testes rápidos e geração de comandos.\n",
    "* Faça chamadas REST no Cloud Shell.\n",
    "* Use o Python SDK em um notebook Jupyter\n",
    "\n",
    "Este notebook se concentra no uso do Python SDK para chamar a Vertex AI PaLM API. Para obter mais informações sobre como usar o Generative AI Studio sem escrever código, você pode explorar [Introdução às instruções da interface do usuário](https://github.com/GoogleCloudPlatform/generative-ai/blob/main/getting-started/getting_started_ui.md)\n",
    "\n",
    "Para obter mais informações, confira a [documentação sobre suporte de IA generativa para Vertex AI](https://cloud.google.com/vertex-ai/docs/generative-ai/learn/overview)."
   ]
  },
  {
   "cell_type": "markdown",
   "metadata": {
    "id": "RQT500QqVPIb"
   },
   "source": [
    "### Objetivos\n",
    "\n",
    "Neste tutorial, você aprenderá como usar a API PaLM 2 com o Python SDK e explorar seus vários parâmetros.\n",
    "\n",
    "Ao final do notebook, você será capaz de entender várias nuances de parâmetros de modelo generativo como `top_k`, `top_p`, `temperature`,  e como cada parâmetro afeta os resultados.\n",
    "\n",
    "As etapas realizadas incluem:\n",
    "\n",
    "- Instalando o Python SDK\n",
    "- Usando a API Vertex AI PaLM\n",
    "   - Modelo de geração de texto com `text-bison@001`\n",
    "     - Entendendo os parâmetros do modelo (`temperature`, `max_output_tokens`, `top_k`, `top_p`)\n",
    "   - Modelo de chat com `chat-bison@001`\n",
    "   - Modelo de embeddings com `textembedding-gecko@001`"
   ]
  },
  {
   "cell_type": "markdown",
   "metadata": {
    "id": "1y6_3dTwV2fI"
   },
   "source": [
    "### Custos\n",
    "Este tutorial usa os seguintes componentes de Google Cloud:\n",
    "\n",
    "* Vertex AI Generative AI Studio\n",
    "\n",
    "Saiba mais sobre possíveis custos envolvidos [preços da Vertex AI](https://cloud.google.com/vertex-ai/pricing),\n",
    "e use a [Calculadora de preços](https://cloud.google.com/products/calculator/)\n",
    "para gerar uma estimativa de custo com base no uso projetado."
   ]
  },
  {
   "cell_type": "markdown",
   "metadata": {
    "id": "6ae098456471"
   },
   "source": [
    "### Segurança de dados\n",
    "**P: O Google usa dados de clientes para melhorar seus modelos de base?**\n",
    "R: Não, o Google não usa dados de clientes para melhorar os modelos de fundação. Os dados do cliente são usados apenas para gerar uma resposta do modelo.\n",
    "\n",
    "**P: Os funcionários do Google veem os dados que envio ao modelo?**\n",
    "R: Não, os funcionários do Google não têm acesso aos dados do cliente e todos os dados são criptografados em trânsito, em uso e em repouso.\n",
    "\n",
    "**P: O Google armazena algum dos dados do cliente que são enviados para o modelo?**\n",
    "R: Não, o Google não armazena dados de clientes. No entanto, o Google pode armazenar em cache temporariamente os dados do cliente durante a solicitação, como pipeline de ajuste de prompt e uso em batch.\n",
    "\n",
    "**P: O Google registra dados?**\n",
    "R: Não, o Google não loga os dados dos clientes. Os logs do lado do sistema ajudam o Google a garantir a integridade e a disponibilidade do sistema."
   ]
  },
  {
   "cell_type": "markdown",
   "metadata": {
    "id": "fc389a25bf64"
   },
   "source": [
    "### IA Responsável\n",
    "LLMs podem traduzir linguagem, resumir texto, gerar escrita criativa, gerar código, chatbots e assistentes virtuais, além de complementar mecanismos de pesquisa e sistemas de recomendação. Ao mesmo tempo, como uma tecnologia em estágio inicial, seus recursos e usos em evolução podem criar aplicações incorretas, uso indevido e consequências não intencionais ou imprevistas. LLMs podem gerar resultados inesperados, incluindo texto ofensivo, insensível ou incorreto.\n",
    "\n",
    "Além disso, a incrível versatilidade dos LLMs também é o que torna difícil prever exatamente que tipos de saídas não intencionais ou imprevistas eles podem produzir. Dados esses riscos e complexidades, a API PaLM foi projetada com os [AI Principles do Google](https://ai.google/principles/) em mente. No entanto, é importante que os desenvolvedores entendam e testem seus modelos para implantá-los com segurança e responsabilidade. Para ajudar os desenvolvedores, o Generative AI Studio possui filtragem de conteúdo integrada e a API PaLM possui pontuação de atributo de segurança para ajudar os clientes a testar os filtros de segurança do Google e definir limites de confiança adequados para seu caso de uso e negócios. Consulte a seção [Filtros e atributos de segurança](https://cloud.google.com/vertex-ai/docs/generative-ai/learn/responsible-ai#safety_filters_and_attributes) para saber mais.\n",
    "\n",
    "Quando a API PaLM é integrada ao caso de uso e contexto exclusivos de um cliente, considerações adicionais de IA Responsável e [limitações PaLM](https://cloud.google.com/vertex-ai/docs/generative-ai/learn/responsible-ai #palm_limitations) precisam ser considerados. Incentivamos os clientes a usar *fairness*, interpretabilidade, privacidade e segurança [práticas recomendadas](https://ai.google/responsabilidades/responsible-ai-practices/)."
   ]
  },
  {
   "cell_type": "markdown",
   "metadata": {
    "id": "QDU0XJ1xRDlL"
   },
   "source": [
    "## Primeiros Passos"
   ]
  },
  {
   "cell_type": "markdown",
   "metadata": {
    "id": "N5afkyDMSBW5"
   },
   "source": [
    "### Instalando os SDK da Vertex AI e da Cloud Translate API"
   ]
  },
  {
   "cell_type": "code",
   "execution_count": 11,
   "metadata": {
    "id": "kc4WxYmLSBW5",
    "scrolled": true,
    "tags": []
   },
   "outputs": [],
   "source": [
    "# !pip install google-cloud-aiplatform --upgrade --user"
   ]
  },
  {
   "cell_type": "markdown",
   "metadata": {},
   "source": [
    "**Somente Colab:** Descomente a célula a seguir para reiniciar o kernel ou use o botão para reiniciar o kernel."
   ]
  },
  {
   "cell_type": "code",
   "execution_count": 12,
   "metadata": {
    "id": "YmY9HVVGSBW5"
   },
   "outputs": [],
   "source": [
    "# # Reinicia automaticamente o kernel após as instalações para que seu ambiente possa acessar os novos pacotes\n",
    "# import IPython\n",
    "\n",
    "# app = IPython.Application.instance()\n",
    "# app.kernel.do_shutdown(True)"
   ]
  },
  {
   "cell_type": "markdown",
   "metadata": {
    "id": "6Fom0ZkMSBW6"
   },
   "source": [
    "### Autenticando seu ambiente de notebook\n",
    "* Se você estiver usando o **Colab** para executar este notebook, descomente a célula abaixo e continue.\n",
    "* Se você estiver usando o **Vertex AI Workbench**, confira as instruções de configuração [aqui](../setup-env/README.md)."
   ]
  },
  {
   "cell_type": "code",
   "execution_count": 13,
   "metadata": {
    "id": "LCaCx6PLSBW6"
   },
   "outputs": [],
   "source": [
    "# from google.colab import auth\n",
    "# auth.authenticate_user()"
   ]
  },
  {
   "cell_type": "markdown",
   "metadata": {
    "id": "GckO4EysV5BT"
   },
   "source": [
    "## Modelos disponíveis na Vertex AI PaLM API"
   ]
  },
  {
   "cell_type": "markdown",
   "metadata": {
    "id": "BDYqwDmTLgEy"
   },
   "source": [
    "A Vertex AI PaLM API permite que você teste, personalize e implemente instâncias de LLM do Google, chamado PaLM, para que você possa aproveitar os recursos do PaLM em seus aplicativos.\n",
    "\n",
    "### Nomenclatura dos modelos\n",
    "Os nomes dos modelos de fundação têm três componentes: caso de uso, tamanho do modelo e número da versão. A convenção de nomenclatura está no formato:\n",
    "`<caso de uso>-<tamanho do modelo>@<número da versão>`\n",
    "\n",
    "Por exemplo, text-bison@001 representa o modelo de texto Bison, versão 001.\n",
    "\n",
    "Os tamanhos dos modelos são os seguintes:\n",
    "- **Bison**: O melhor valor em termos de capacidade e custo.\n",
    "- **Gecko**: O modelo menor e mais barato para tarefas simples.\n",
    "\n",
    "### Modelos disponíveis\n",
    "\n",
    "Atualmente, a Vertex AI PaLM API oferece suporte a três modelos:\n",
    "\n",
    "* `text-bison@001` : Ajustado para seguir instruções de linguagem natural e é adequado para uma variedade de tarefas de linguagem.\n",
    "* `chat-bison@001`: Ajustado para casos de uso de conversas em vários turnos, como a construção de um chatbot.\n",
    "* `textembedding-gecko@001` : Retorna incorporações de modelo para entradas de texto.\n",
    "\n",
    "Você pode encontrar mais informações sobre as propriedades desses [modelos fundamentais na documentação do Generative AI Studio](https://cloud.google.com/vertex-ai/docs/generative-ai/learn/models#foundation_models)."
   ]
  },
  {
   "cell_type": "markdown",
   "metadata": {
    "id": "BuQwwRiniVFG"
   },
   "source": [
    "### Importando as bibliotecas necessárias"
   ]
  },
  {
   "cell_type": "markdown",
   "metadata": {},
   "source": [
    "**Somente Colab:** Descomente a célula a seguir para realizar o processo adequado de inicialização da SDK da Vertex AI.  "
   ]
  },
  {
   "cell_type": "code",
   "execution_count": 14,
   "metadata": {},
   "outputs": [],
   "source": [
    "# import vertexai\n",
    "\n",
    "# PROJECT_ID = \"[seu-project-id]\"  # @param {type:\"string\"}\n",
    "# vertexai.init(project=PROJECT_ID, location=\"us-central1\")"
   ]
  },
  {
   "cell_type": "code",
   "execution_count": 15,
   "metadata": {
    "id": "4zjV4alsiVql"
   },
   "outputs": [],
   "source": [
    "import pandas as pd\n",
    "import seaborn as sns\n",
    "from IPython.display import Markdown, display\n",
    "from sklearn.metrics.pairwise import cosine_similarity\n",
    "from vertexai.preview.language_models import (ChatModel, InputOutputTextPair,\n",
    "                                              TextEmbeddingModel,\n",
    "                                              TextGenerationModel)"
   ]
  },
  {
   "cell_type": "markdown",
   "metadata": {
    "id": "_mU6EZEhakVu"
   },
   "source": [
    "## Geração de texto com `text-bison@001`\n",
    "\n",
    "O modelo de geração de texto da API PaLM que você usará neste notebook é `text-bison@001`.\n",
    "Ele é ajustado para seguir instruções de linguagem natural e é adequado para uma variedade de tarefas de linguagem, como:\n",
    "\n",
    "- Classificação\n",
    "- Análise de sentimentos\n",
    "- Extração de entidades\n",
    "- Perguntas-respostas extrativas\n",
    "- Resumo\n",
    "- Reescrever o texto em um estilo diferente\n",
    "- Geração de cópia do anúncio\n",
    "- Ideação do conceito\n",
    "- Simplificação do conceito"
   ]
  },
  {
   "cell_type": "markdown",
   "metadata": {
    "id": "4437b7608c8e"
   },
   "source": [
    "#### Carregando o modelo `text-bison`"
   ]
  },
  {
   "cell_type": "code",
   "execution_count": 16,
   "metadata": {
    "id": "2998506fe6d1"
   },
   "outputs": [],
   "source": [
    "generation_model = TextGenerationModel.from_pretrained(\"text-bison@001\")"
   ]
  },
  {
   "cell_type": "markdown",
   "metadata": {
    "id": "7a5d006f3813"
   },
   "source": [
    "#### Design de prompts\n",
    "O design de prompts é o processo de criação de prompts que extraem a resposta desejada de um modelo de linguagem. O design de prompt é uma parte importante do uso de modelos de linguagem porque permite que não especialistas controlem a saída do modelo com pouco esforço.\n",
    "\n",
    "Ao elaborar cuidadosamente os prompts, você pode ajustar o modelo para gerar o resultado desejado. O design de prompt pode ser uma maneira eficiente de experimentar a adaptação de um LLM para um caso de uso específico. O processo iterativo de atualizar repetidamente os prompts e avaliar as respostas do modelo às vezes é chamado de engenharia de prompt."
   ]
  },
  {
   "cell_type": "markdown",
   "metadata": {
    "id": "kEAJ0ipmbndQ"
   },
   "source": [
    "#### Hello PaLM"
   ]
  },
  {
   "cell_type": "markdown",
   "metadata": {
    "id": "tCgBDJvNRCF5"
   },
   "source": [
    "Crie o seu primeiro prompt e envie para o modelo de geração de texto:"
   ]
  },
  {
   "cell_type": "code",
   "execution_count": 17,
   "metadata": {
    "id": "cx_o455SRCF5"
   },
   "outputs": [
    {
     "name": "stdout",
     "output_type": "stream",
     "text": [
      "Um large language model (LLM) é um tipo de modelo de linguagem de aprendizado de máquina que pode ser usado para uma variedade de tarefas, incluindo tradução, geração de texto, compreensão de leitura e perguntas e respostas. LLMs são treinados em grandes conjuntos de dados de texto e são capazes de aprender as relações entre palavras e frases. Isso lhes permite gerar texto que é gramaticalmente correto e coerente, mesmo quando é sobre tópicos que eles não foram treinados especificamente.\n",
      "\n",
      "Os LLMs são uma tecnologia relativamente nova, mas já estão sendo usados em uma variedade de aplicações comerciais e de pesquisa. Por exemplo, eles estão sendo pt\n"
     ]
    }
   ],
   "source": [
    "prompt = \"O que é um large language model?\"\n",
    "\n",
    "response = generation_model.predict(prompt=prompt)\n",
    "\n",
    "print(response.text, \"pt\")"
   ]
  },
  {
   "cell_type": "markdown",
   "metadata": {},
   "source": [
    "#### Teste os seus prompts"
   ]
  },
  {
   "cell_type": "markdown",
   "metadata": {},
   "source": [
    "- Quais são as 10 principais tendências na indústria de tecnologia?\n",
    "- Quais são os maiores desafios enfrentados pelo setor de saúde?\n",
    "- Quais são os últimos desenvolvimentos na indústria automotiva?\n",
    "- Quais são as maiores oportunidades no setor de varejo?\n",
    "- (Tente suas próprias ideias!)"
   ]
  },
  {
   "cell_type": "code",
   "execution_count": 18,
   "metadata": {},
   "outputs": [
    {
     "name": "stdout",
     "output_type": "stream",
     "text": [
      "1. Computação em nuvem\n",
      "2. Inteligência artificial\n",
      "3. Internet das coisas\n",
      "4. Big data\n",
      "5. Blockchain\n",
      "6. Realidade virtual e aumentada\n",
      "7. Robótica\n",
      "8. Automação\n",
      "9. Segurança cibernética\n",
      "10. 5G\n"
     ]
    }
   ],
   "source": [
    "prompt = \"Quais são as top-10 tendências para computação?\" # try your own prompt\n",
    "\n",
    "response = generation_model.predict(prompt=prompt)\n",
    "\n",
    "print(response.text)"
   ]
  },
  {
   "cell_type": "markdown",
   "metadata": {
    "id": "EsglQtgDRCF5"
   },
   "source": [
    "#### Templates de prompts"
   ]
  },
  {
   "cell_type": "markdown",
   "metadata": {
    "id": "9BP1BKWiRCF6"
   },
   "source": [
    "Os modelos de prompt são úteis se você encontrou uma boa maneira de estruturar seu prompt que pode ser reutilizado. Isso também pode ser útil para limitar a abertura de prompts de forma livre. Existem muitas maneiras de implementar modelos de prompt, e abaixo está apenas um exemplo usando f-strings de Python."
   ]
  },
  {
   "cell_type": "code",
   "execution_count": 19,
   "metadata": {
    "id": "2USfPyOuFhlB"
   },
   "outputs": [
    {
     "name": "stdout",
     "output_type": "stream",
     "text": [
      "1. A ascensão do esporte feminino\n",
      "\n",
      "O esporte feminino está crescendo rapidamente em popularidade, com mais mulheres participando de esportes e mais espectadores assistindo a eventos esportivos femininos. Isso é impulsionado por uma série de fatores, incluindo o aumento da conscientização sobre as questões de gênero, a crescente igualdade de oportunidades para as mulheres e o sucesso de atletas femininas de alto nível.\n",
      "\n",
      "2. A crescente popularidade dos esportes eletrônicos\n",
      "\n",
      "Os esportes eletrônicos, ou e-sports, são uma forma de competição de videogame que está se tornando cada vez mais popular. Os e-sports são jogados profissionalmente por equipes\n"
     ]
    }
   ],
   "source": [
    "minha_industria = \"esportes\" # altere esta variável para tentar com indústrias diferentes\n",
    "\n",
    "response = generation_model.predict(\n",
    "    prompt=\"Quais são as top-10 tendências para \" + minha_industria + \"?\"\n",
    ")\n",
    "\n",
    "print(response.text)"
   ]
  },
  {
   "cell_type": "markdown",
   "metadata": {
    "id": "m65AyLt8yvdB"
   },
   "source": [
    "### Parâmetros do modelo `text-bison@001`"
   ]
  },
  {
   "cell_type": "markdown",
   "metadata": {
    "id": "vQuZh6GT0Yn4"
   },
   "source": [
    "Você pode personalizar como a API do PaLM se comporta em resposta ao seu prompt usando os seguintes parâmetros para `text-bison@001`:\n",
    "\n",
    "  - `max_output_tokens`: define o número máximo de tokens na saída\n",
    "  - `top_k`: maior significa que irá amostrar de mais tokens possíveis\n",
    "  - `top_p`: maior significa que ele extrairá mais possíveis próximos tokens, com base na probabilidade cumulativa\n",
    "  - `temperature`: maior significa respostas mais \"criativas\"\n",
    "\n",
    "A seção abaixo cobre cada parâmetro e como usá-los."
   ]
  },
  {
   "cell_type": "markdown",
   "metadata": {
    "id": "Krop7HXOIy8f",
    "tags": []
   },
   "source": [
    "#### O parâmetro `top_k` (intervalo: 0,0 - 40, padrão 40)\n",
    "\n",
    "##### O que é _top_k_?\n",
    "`top_k` muda como o modelo seleciona tokens para saída. Um `top_k` de 1 significa que o token selecionado é o mais provável entre todos os tokens no vocabulário do modelo (também chamado de decodificação *greedy* ou gananciosa). Em contraste, um `top_k` de 3 significa que o próximo token é selecionado entre os 3 tokens mais prováveis (usando a temperatura). Para cada etapa de seleção de token, os tokens `top_k` com as maiores probabilidades são amostrados. Em seguida, os tokens são filtrados com base em `top_p` com o token final selecionado usando amostragem de temperatura.\n",
    "\n",
    "##### Como _top_k_ afeta a resposta?\n",
    "\n",
    "Especifique um valor mais baixo para respostas menos aleatórias e um valor mais alto para respostas mais aleatórias.\n",
    "\n",
    "Para obter mais informações sobre o parâmetro `top_k` para modelos de texto, consulte a [documentação sobre parâmetros de modelo](https://cloud.google.com/vertex-ai/docs/generative-ai/learn/models#text_model_parameters) ."
   ]
  },
  {
   "cell_type": "code",
   "execution_count": 20,
   "metadata": {
    "id": "qK76o1hYO3ej"
   },
   "outputs": [
    {
     "name": "stdout",
     "output_type": "stream",
     "text": [
      "[top_k = 1]\n",
      "**Dia 1**\n",
      "\n",
      "* 9h: Café da manhã no seu hotel\n",
      "* 10h: Visite a Torre Eiffel\n",
      "* 12h: Almoço em um restaurante com vista para a Torre Eiffel\n",
      "* 14h: Visite o Museu do Louvre\n",
      "* 17h: Faça um passeio de barco pelo Rio Sena\n",
      "* 19h: Jantar em um restaurante típico francês\n",
      "\n",
      "**Dia 2**\n",
      "\n",
      "* 9h: Café da manhã no seu hotel\n",
      "* 10h: Visite o Palácio de Versalhes\n",
      "* 12h: Almoço em um restaurante no Palácio de Versalhes\n",
      "* 14h: Visite o Jardim de Luxemburgo\n",
      "* 17h: Faça compras na Avenida Champs-Élysées\n",
      "* 19h: Jantar em um restaurante na Place de la Concorde\n",
      "\n",
      "Este é apenas um exemplo de itinerário, e você pode personalizar sua viagem de acordo com seus interesses e orçamento. Paris é uma cidade incrível e há muito o que ver e fazer, então você não ficará entediado!\n"
     ]
    }
   ],
   "source": [
    "prompt_top_k_example = \"Escreva um itinerário de 2 dias em Paris\"\n",
    "top_k_val = 1\n",
    "\n",
    "response = generation_model.predict(\n",
    "    prompt=prompt_top_k_example,\n",
    "    max_output_tokens=300, \n",
    "    temperature=0.9, \n",
    "    top_k=top_k_val\n",
    ")\n",
    "\n",
    "print(f\"[top_k = {top_k_val}]\")\n",
    "print(response.text)"
   ]
  },
  {
   "cell_type": "code",
   "execution_count": 21,
   "metadata": {
    "id": "Hhu9d23vPGmK"
   },
   "outputs": [
    {
     "name": "stdout",
     "output_type": "stream",
     "text": [
      "[top_k = 40]\n",
      "* **Dia 1:**\n",
      "    * Visite a Torre Eiffel e aprecie a vista panorâmica da cidade.\n",
      "    * Explore o Louvre, um dos maiores museus do mundo, e admire obras-primas como a Mona Lisa e a Vênus de Milo.\n",
      "    * Faça um passeio de barco no Rio Sena e veja os principais monumentos de Paris, como a Catedral de Notre-Dame e o Arco do Triunfo.\n",
      "    * Jante em um bistrô típico e experimente a culinária francesa.\n",
      "* **Dia 2:**\n",
      "    * Visite o Museu do Louvre e veja mais obras-primas, como a Pietà de Michelangelo e a Esfinge de Gizé.\n",
      "    * Caminhe pela Champs-Élysées, uma das avenidas mais famosas do mundo, e faça compras nas lojas de luxo.\n",
      "    * Visite o Palácio de Versalhes, uma das maiores e mais luxuosas residências reais do mundo.\n",
      "    * Jante em um restaurante com estrela Michelin e delicie-se com a alta gastronomia francesa.\n",
      "\n",
      "Este é apenas um exemplo de itinerário, e você pode personalizar sua viagem de acordo com seus interesses e orçamento. Paris é uma cidade incrível e há muito o que ver e fazer, então você não se arrependerá de passar alguns dias explorando-a!\n"
     ]
    }
   ],
   "source": [
    "top_k_val = 40\n",
    "\n",
    "response = generation_model.predict(\n",
    "    prompt=prompt_top_k_example,\n",
    "    max_output_tokens=300,\n",
    "    temperature=0.9,\n",
    "    top_k=top_k_val\n",
    ")\n",
    "\n",
    "print(f\"[top_k = {top_k_val}]\")\n",
    "print(response.text)"
   ]
  },
  {
   "cell_type": "markdown",
   "metadata": {
    "id": "kD3S2XsnHL50"
   },
   "source": [
    "#### O parâmetro `top_p` (intervalo: 0,0 - 1,0, padrão 0,95)\n",
    "\n",
    "##### O que é _top_p_?\n",
    "`top_p` controla como o modelo seleciona tokens para saída ajustando a distribuição de probabilidade da próxima palavra no texto gerado com base em um corte de probabilidade cumulativo. Especificamente, ele seleciona o menor conjunto de tokens cuja probabilidade cumulativa excede a probabilidade de corte dada _p_ e amostras desse conjunto uniformemente.\n",
    "\n",
    "Por exemplo, suponha que os tokens A, B e C tenham uma probabilidade de 0,3, 0,2 e 0,1 e o valor `top_p` seja 0,5. Nesse caso, o modelo selecionará A ou B como o próximo token (usando temperatura) e não considerará C, porque a probabilidade cumulativa de top_p é <= 0,5. Especifique um valor mais baixo para respostas menos aleatórias e um valor mais alto para respostas mais aleatórias.\n",
    "\n",
    "##### Como _top_p_ afeta a resposta?\n",
    "\n",
    "O parâmetro `top_p` é usado para controlar a diversidade do texto gerado. Um valor de parâmetro `top_p` mais alto resulta em saídas mais \"diversas\" e \"interessantes\", com o modelo podendo amostrar de um conjunto maior de possibilidades. Em contraste, um valor de parâmetro `top_p` mais baixo resultou em saídas mais previsíveis, com o modelo sendo restrito a um conjunto menor de tokens possíveis.\n",
    "\n",
    "##### Exemplo:\n",
    "\n",
    "`top_p = 0.1`:\n",
    "\n",
    "- O gato sentou-se no tapete.\n",
    "- O gato sentou no chão.\n",
    "\n",
    "`top_p = 0.9`:\n",
    "\n",
    "- O gato sentou-se no parapeito da janela, absorvendo os raios do sol.\n",
    "- O gato sentou-se na beirada da cama, observando os pássaros lá fora.\n",
    "\n",
    "Para obter mais informações sobre o parâmetro `top_p` para modelos de texto, consulte a [documentação sobre parâmetros de modelo](https://cloud.google.com/vertex-ai/docs/generative-ai/learn/models#text_model_parameters) ."
   ]
  },
  {
   "cell_type": "code",
   "execution_count": 22,
   "metadata": {
    "id": "RAJiVYprNle1"
   },
   "outputs": [
    {
     "name": "stdout",
     "output_type": "stream",
     "text": [
      "[top_p = 0.0]\n",
      "**Campanha de marketing para jaquetas jeans envolvendo elefantes azuis e abacates**\n",
      "\n",
      "**Imagem 1:** Um elefante azul e um abacate estão sentados em uma árvore, usando jaquetas jeans. O elefante está sorrindo e o abacate está fazendo uma careta.\n",
      "\n",
      "**Texto:** Jaqueta jeans: confortável, estilosa e sustentável.\n",
      "\n",
      "**Imagem 2:** Um grupo de amigos está andando pela rua, todos usando jaquetas jeans. Eles estão sorrindo e se divertindo.\n",
      "\n",
      "**Texto:** Vista uma jaqueta jeans e mostre seu estilo\n"
     ]
    }
   ],
   "source": [
    "top_p_val = 0.0\n",
    "prompt_top_p_example = (\n",
    "    \"Crie uma campanha de marketing para jaquetas jeans que envolva elefantes azuis e abacates\"\n",
    ")\n",
    "\n",
    "response = generation_model.predict(\n",
    "    prompt=prompt_top_p_example, temperature=0.9, top_p=top_p_val\n",
    ")\n",
    "\n",
    "print(f\"[top_p = {top_p_val}]\")\n",
    "print(response.text)"
   ]
  },
  {
   "cell_type": "code",
   "execution_count": 23,
   "metadata": {
    "id": "zm69kbcyN2gg"
   },
   "outputs": [
    {
     "name": "stdout",
     "output_type": "stream",
     "text": [
      "[top_p = 1.0]\n",
      "**Campanha de marketing: Jaqueta jeans azul com estampa de elefante e abacate**\n",
      "\n",
      "**Objetivo:** Aumentar as vendas de jaquetas jeans com estampa de elefante e abacate.\n",
      "\n",
      "**Conteúdo:**\n",
      "\n",
      "* Imagens e vídeos de modelos usando as jaquetas.\n",
      "* Histórias sobre como as jaquetas são confortáveis, estilosas e versáteis.\n",
      "* Depoimentos de clientes que adoram suas jaquetas.\n",
      "* Promoções e descontos especiais.\n",
      "\n",
      "**Diferenciais:**\n",
      "\n",
      "* As jaquetas são feitas com jeans de alta qualidade, duráveis\n"
     ]
    }
   ],
   "source": [
    "top_p_val = 1.0\n",
    "\n",
    "response = generation_model.predict(\n",
    "    prompt=prompt_top_p_example, temperature=0.9, top_p=top_p_val\n",
    ")\n",
    "\n",
    "print(f\"[top_p = {top_p_val}]\")\n",
    "print(response.text)"
   ]
  },
  {
   "cell_type": "markdown",
   "metadata": {
    "id": "JF76AKzaF2IP"
   },
   "source": [
    "#### O parâmetro `temperature` (intervalo: 0,0 - 1,0, padrão 0)\n",
    "\n",
    "##### O que é _temperature_?\n",
    "A temperatura é usada para amostragem durante a geração da resposta, que ocorre quando top_p e top_k são aplicados. A temperatura controla o grau de aleatoriedade na seleção do token.\n",
    "\n",
    "##### Como a _temperatura_ afeta a resposta?\n",
    "Temperaturas mais baixas são boas para prompts que exigem uma resposta mais determinística e menos aberta. Em comparação, temperaturas mais altas podem levar a resultados mais \"criativos\" ou diversos. Uma temperatura de `0` é determinística: a resposta de maior probabilidade é sempre selecionada. Para a maioria dos casos de uso, tente iniciar com uma temperatura de `0,2`.\n",
    "\n",
    "Um valor de temperatura mais alto resultará em uma saída mais exploratória, com maior probabilidade de gerar palavras ou frases raras ou incomuns. Por outro lado, um valor de temperatura mais baixo resultará em uma saída mais conservadora, com maior probabilidade de gerar palavras ou frases comuns ou esperadas.\n",
    "\n",
    "##### Exemplo:\n",
    "\n",
    "Por exemplo,\n",
    "\n",
    "`temperatura = 0,0`:\n",
    "\n",
    "* _O gato sentou no sofá, observando os pássaros lá fora._\n",
    "* _O gato sentou-se no parapeito da janela, tomando sol._\n",
    "\n",
    "`temperatura = 0,9`:\n",
    "\n",
    "* _O gato sentou-se na lua, miando para as estrelas._\n",
    "* _O gato sentou-se no cheeseburger, ronronando de alegria._\n",
    "\n",
    "**Observação**: é importante observar que, embora o parâmetro de temperatura possa ajudar a gerar um texto mais diversificado e interessante, ele também pode aumentar a probabilidade de gerar texto sem sentido ou inapropriado (ou seja, alucinações). Portanto, é importante usá-lo com cuidado e levando em consideração o resultado desejado.\n",
    "\n",
    "Para obter mais informações sobre o parâmetro `temperatura` para modelos de texto, consulte a [documentação sobre parâmetros de modelo](https://cloud.google.com/vertex-ai/docs/generative-ai/learn/models#text_model_parameters) ."
   ]
  },
  {
   "cell_type": "markdown",
   "metadata": {
    "id": "aMEz2P18SBW-"
   },
   "source": [
    "Se você executar a célula a seguir várias vezes, ela sempre retornará a mesma resposta, pois `temperature=0` é determinístico."
   ]
  },
  {
   "cell_type": "code",
   "execution_count": 24,
   "metadata": {
    "id": "cxPM1A8uR81l"
   },
   "outputs": [
    {
     "name": "stdout",
     "output_type": "stream",
     "text": [
      "[temperature = 0.0]\n",
      "prego.\n",
      "\n",
      "A frase está incompleta. A palavra \"prego\" é um substantivo masculino. A frase está no tempo presente do indicativo. A frase está no modo indicativo. A frase está no singular. A frase está no sujeito oculto. A frase está no objeto direto. A frase está no predicado nominal. A frase está no predicado verbal. A frase está no predicado verbal. A frase está no predicado verbal. A frase está no predicado verbal. A frase está no predicado verbal. A frase está no predicado verbal. A frase está no predicado verbal. A frase está no predicado\n"
     ]
    }
   ],
   "source": [
    "temp_val = 0.0\n",
    "prompt_temperature = \"Complete a frase: Enquanto me preparava para pendurar o quadro, peguei na caixa de ferramentas um:\"\n",
    "\n",
    "response = generation_model.predict(\n",
    "    prompt=prompt_temperature,\n",
    "    temperature=temp_val,\n",
    ")\n",
    "\n",
    "print(f\"[temperature = {temp_val}]\")\n",
    "print(response.text)"
   ]
  },
  {
   "cell_type": "markdown",
   "metadata": {
    "id": "5B91rIFiSBW_"
   },
   "source": [
    "Se você executar a célula a seguir várias vezes, ela pode retornar respostas diferentes, pois valores de temperatura mais altos podem levar a resultados \n",
    "mais diversos, mesmo que o prompt seja o mesmo da célula acima."
   ]
  },
  {
   "cell_type": "code",
   "execution_count": 25,
   "metadata": {
    "id": "z2mKiDB5SBW_"
   },
   "outputs": [
    {
     "name": "stdout",
     "output_type": "stream",
     "text": [
      "[temperature = 1.0]\n",
      "Enquanto me preparava para pendurar o quadro, peguei na caixa de ferramentas um prego.\n",
      "A caixa de ferramentas é um recipiente que contém várias ferramentas úteis para diferentes fins, como martelos, pregos, chaves, e outros. No caso desta situação, o prego é a ferramenta mais adequada para pendurar o quadro, pois é utilizada para prender objetos à parede.\n"
     ]
    }
   ],
   "source": [
    "temp_val = 1.0\n",
    "\n",
    "response = generation_model.predict(\n",
    "    prompt=prompt_temperature,\n",
    "    temperature=temp_val,\n",
    ")\n",
    "\n",
    "print(f\"[temperature = {temp_val}]\")\n",
    "print(response.text)"
   ]
  },
  {
   "cell_type": "markdown",
   "metadata": {
    "id": "JRYTOKQpGpfP"
   },
   "source": [
    "#### O parâmetro `max_output_tokens` (intervalo: 1 - 1024, padrão 128)\n",
    "\n",
    "##### Tokens\n",
    "Um único token pode ser menor que uma palavra. Por exemplo, um token tem aproximadamente quatro caracteres. Portanto, 100 tokens correspondem a cerca de 60 a 80 palavras. É essencial estar ciente dos tamanhos dos tokens, pois os modelos têm um limite de tokens de entrada e saída.\n",
    "\n",
    "##### O que é _max_output_tokens_?\n",
    "`max_output_tokens` é o número máximo de tokens que podem ser gerados na resposta.\n",
    "\n",
    "##### Como _max_output_tokens_ afeta a resposta?\n",
    "\n",
    "Especifique um valor mais baixo para respostas mais curtas e um valor mais alto para respostas mais longas. Um token pode ser menor que uma palavra. Um token tem aproximadamente quatro caracteres. 100 tokens correspondem a aproximadamente 60-80 palavras.\n",
    "\n",
    "Para obter mais informações sobre o parâmetro `max_output_tokens` para modelos de texto, consulte a [documentação sobre parâmetros de modelo](https://cloud.google.com/vertex-ai/docs/generative-ai/learn/models#text_model_parameters) ."
   ]
  },
  {
   "cell_type": "code",
   "execution_count": 26,
   "metadata": {
    "id": "ZUjANX_mNLuI"
   },
   "outputs": [
    {
     "name": "stdout",
     "output_type": "stream",
     "text": [
      "[max_output_tokens = 5]\n",
      "1. **Personal\n"
     ]
    }
   ],
   "source": [
    "max_output_tokens_val = 5\n",
    "\n",
    "response = generation_model.predict(\n",
    "    prompt=\"Liste 10 formas que a Generative AI pode auxiliar na experiência de compras online dos usuários\",\n",
    "    max_output_tokens=max_output_tokens_val,\n",
    ")\n",
    "\n",
    "print(f\"[max_output_tokens = {max_output_tokens_val}]\")\n",
    "print(response.text)"
   ]
  },
  {
   "cell_type": "code",
   "execution_count": 27,
   "metadata": {
    "id": "9DiHeUgSNX1m"
   },
   "outputs": [
    {
     "name": "stdout",
     "output_type": "stream",
     "text": [
      "[max_output_tokens = 500]\n",
      "1. **Personalização de produtos e recomendações:** A I generativa pode ser usada para criar produtos personalizados para cada usuário, com base em suas preferências e histórico de compras. Isso pode ajudar os usuários a encontrar produtos que são perfeitos para eles e que eles provavelmente vão gostar.\n",
      "2. **Sugestões de produtos:** A I generativa também pode ser usada para sugerir produtos aos usuários com base em suas pesquisas e atividades anteriores. Isso pode ajudar os usuários a descobrir novos produtos que eles podem não ter encontrado sozinhos.\n",
      "3. **Filtros de produtos:** A I generativa pode ser usada para criar filtros de produtos personalizados para cada usuário, com base em suas preferências. Isso pode ajudar os usuários a encontrar produtos que são relevantes para eles e que eles estão realmente interessados.\n",
      "4. **Visualização de produtos:** A I generativa pode ser usada para criar visualizações de produtos realistas, que ajudam os usuários a ter uma ideia melhor de como os produtos ficarão na vida real. Isso pode ajudar os usuários a fazer escolhas de compra mais informadas.\n",
      "5. **Chatbots:** A I generativa pode ser usada para criar chatbots que podem ajudar os usuários com suas compras. Os chatbots podem responder a perguntas sobre produtos, fazer recomendações e ajudar os usuários a concluir suas compras.\n",
      "6. **Testes de produtos:** A I generativa pode ser usada para criar testes de produtos virtuais, que permitem aos usuários experimentar produtos antes de comprá-los. Isso pode ajudar os usuários a ter uma ideia melhor de como os produtos funcionam e se eles são adequados para eles.\n",
      "7. **Garantia de devolução do dinheiro:** A I generativa pode ser usada para criar garantias de devolução do dinheiro para produtos online. Isso pode ajudar os usuários a se sentirem mais confiantes em comprar produtos online, sabendo que eles podem devolver os produtos se não ficarem satisfeitos.\n",
      "8. **Pagamento sem contato:** A I generativa pode ser usada para criar sistemas de pagamento sem contato, que permitem aos usuários fazer compras online sem ter que compartilhar seus dados de pagamento. Isso pode ajudar os usuários a fazer compras online de forma mais segura e conveniente.\n",
      "9. **Entrega rápida:** A I generativa pode ser usada para criar sistemas de entrega rápida, que permitem aos usuários receber seus produtos em um curto espaço de tempo. Isso pode ajudar os usuários a obter os produtos que precisam rapidamente, sem ter que esperar\n"
     ]
    }
   ],
   "source": [
    "max_output_tokens_val = 500\n",
    "\n",
    "response = generation_model.predict(\n",
    "    prompt=\"Liste 10 formas que a Generative AI pode auxiliar na experiência de compras online dos usuários\",\n",
    "    max_output_tokens=max_output_tokens_val,\n",
    ")\n",
    "\n",
    "print(f\"[max_output_tokens = {max_output_tokens_val}]\")\n",
    "print(response.text)"
   ]
  },
  {
   "cell_type": "markdown",
   "metadata": {},
   "source": [
    "Para facilitar a leitura, você também pode renderizar o Markdown (respostas que vem entre \\*\\*) no Jupyter:"
   ]
  },
  {
   "cell_type": "code",
   "execution_count": 28,
   "metadata": {},
   "outputs": [
    {
     "data": {
      "text/markdown": [
       "1. **Personalização de produtos e recomendações:** A I generativa pode ser usada para criar produtos personalizados para cada usuário, com base em suas preferências e histórico de compras. Isso pode ajudar os usuários a encontrar produtos que são perfeitos para eles e que eles provavelmente vão gostar.\n",
       "2. **Sugestões de produtos:** A I generativa também pode ser usada para sugerir produtos aos usuários com base em suas pesquisas e atividades anteriores. Isso pode ajudar os usuários a descobrir novos produtos que eles podem não ter encontrado sozinhos.\n",
       "3. **Filtros de produtos:** A I generativa pode ser usada para criar filtros de produtos personalizados para cada usuário, com base em suas preferências. Isso pode ajudar os usuários a encontrar produtos que são relevantes para eles e que eles estão realmente interessados.\n",
       "4. **Visualização de produtos:** A I generativa pode ser usada para criar visualizações de produtos realistas, que ajudam os usuários a ter uma ideia melhor de como os produtos ficarão na vida real. Isso pode ajudar os usuários a fazer escolhas de compra mais informadas.\n",
       "5. **Chatbots:** A I generativa pode ser usada para criar chatbots que podem ajudar os usuários com suas compras. Os chatbots podem responder a perguntas sobre produtos, fazer recomendações e ajudar os usuários a concluir suas compras.\n",
       "6. **Testes de produtos:** A I generativa pode ser usada para criar testes de produtos virtuais, que permitem aos usuários experimentar produtos antes de comprá-los. Isso pode ajudar os usuários a ter uma ideia melhor de como os produtos funcionam e se eles são adequados para eles.\n",
       "7. **Garantia de devolução do dinheiro:** A I generativa pode ser usada para criar garantias de devolução do dinheiro para produtos online. Isso pode ajudar os usuários a se sentirem mais confiantes em comprar produtos online, sabendo que eles podem devolver os produtos se não ficarem satisfeitos.\n",
       "8. **Pagamento sem contato:** A I generativa pode ser usada para criar sistemas de pagamento sem contato, que permitem aos usuários fazer compras online sem ter que compartilhar seus dados de pagamento. Isso pode ajudar os usuários a fazer compras online de forma mais segura e conveniente.\n",
       "9. **Entrega rápida:** A I generativa pode ser usada para criar sistemas de entrega rápida, que permitem aos usuários receber seus produtos em um curto espaço de tempo. Isso pode ajudar os usuários a obter os produtos que precisam rapidamente, sem ter que esperar"
      ],
      "text/plain": [
       "<IPython.core.display.Markdown object>"
      ]
     },
     "metadata": {},
     "output_type": "display_data"
    }
   ],
   "source": [
    "display(Markdown(response.text))"
   ]
  },
  {
   "cell_type": "markdown",
   "metadata": {
    "id": "14ada40abecc"
   },
   "source": [
    "## O modelo de chat `chat-bison@001`"
   ]
  },
  {
   "cell_type": "markdown",
   "metadata": {
    "id": "1923b5583a2d"
   },
   "source": [
    "O modelo `chat-bison@001` permite que você tenha uma conversa de forma livre em várias interações (ou turnos de conversa). O aplicativo rastreia o que foi dito anteriormente na conversa. Dessa forma, se você espera usar conversas em seu aplicativo, use o modelo `chat-bison@001` porque ele foi ajustado para casos de uso de conversas de vários turnos."
   ]
  },
  {
   "cell_type": "code",
   "execution_count": 29,
   "metadata": {
    "id": "1325438b9188"
   },
   "outputs": [
    {
     "name": "stdout",
     "output_type": "stream",
     "text": [
      "A inteligência artificial generativa (IA) é uma área da IA que se concentra na criação de conteúdo novo e original. Isso pode ser feito de várias maneiras, incluindo o uso de algoritmos de aprendizado de máquina para gerar texto, imagens, música e outros tipos de conteúdo. A IA generativa tem o potencial de ter um impacto significativo na sociedade, em áreas como a educação, a saúde, a segurança e a criatividade.\n",
      "\n",
      "Embora a IA generativa ainda esteja em sua infância, ela já está sendo usada para criar uma variedade de aplicações úteis. Por exemplo, a IA generativa pode ser usada para gerar conteúdo personalizado para marketing, educação e entretenimento. A IA generativa também pode ser usada para ajudar a criar novos produtos e serviços, bem como para acelerar a descoberta científica.\n",
      "\n",
      "No entanto, a IA generativa também pode ter alguns riscos potenciais. Por exemplo, a IA generativa pode ser usada para criar conteúdo falso e enganoso, o que pode ter consequências negativas para a sociedade. Além disso, a IA generativa pode ser usada para criar conteúdo que é prejudicial ou ofensivo, o que também pode ter consequências negativas para a sociedade.\n",
      "\n",
      "É importante que a sociedade esteja ciente dos potenciais benefícios e riscos da IA generativa. Com uma compreensão adequada dos riscos, a sociedade pode tomar medidas para mitigar esses riscos e maximizar os benefícios da IA generativa.\n"
     ]
    }
   ],
   "source": [
    "chat_model = ChatModel.from_pretrained(\"chat-bison@001\")\n",
    "\n",
    "chat = chat_model.start_chat()\n",
    "\n",
    "print(chat.send_message(\n",
    "        \"\"\"Olá! Escreva um texto em três parágrafos curtos para um artigo científico que eu preciso escrever sobre os impactos de Generative AI para a sociedade?\"\"\"\n",
    "    ).text)"
   ]
  },
  {
   "cell_type": "markdown",
   "metadata": {
    "id": "ef81f564bed1"
   },
   "source": [
    "As shown below, the model should respond based on what was previously said in the conversation:"
   ]
  },
  {
   "cell_type": "code",
   "execution_count": 30,
   "metadata": {
    "id": "30ab5afac7dc"
   },
   "outputs": [
    {
     "name": "stdout",
     "output_type": "stream",
     "text": [
      "* **O impacto da IA generativa na sociedade**\n",
      "* **Os benefícios e riscos da IA generativa**\n",
      "* **Como a IA generativa está sendo usada para criar novos produtos e serviços**\n"
     ]
    }
   ],
   "source": [
    "print(chat.send_message(\n",
    "        \"\"\"Quais seriam três possíveis títulos interessantes para este artigo?\"\"\"\n",
    "    ).text)"
   ]
  },
  {
   "cell_type": "markdown",
   "metadata": {
    "id": "fe15a6b083e5"
   },
   "source": [
    "### Uso avançado do modelo de chats com a SDK da Vertex AI\n",
    "Você também pode fornecer um `context` (contexto) e `exemples` (exemplos) para o modelo. O modelo responderá com base no contexto e nos exemplos fornecidos. Você também pode usar `temperature`, `max_output_tokens`, `top_p` e `top_k`. Esses parâmetros devem ser usados quando você inicia seu chat com `chat_model.start_chat()`.\n",
    "\n",
    "Para obter mais informações sobre modelos de chat, consulte a [documentação sobre os parâmetros do modelo de chat](https://cloud.google.com/vertex-ai/docs/generative-ai/learn/models#chat_model_parameters)."
   ]
  },
  {
   "cell_type": "code",
   "execution_count": 31,
   "metadata": {
    "id": "4047b525961e"
   },
   "outputs": [
    {
     "name": "stdout",
     "output_type": "stream",
     "text": [
      "Sim, os filmes Senhor dos Anéis e o Hobbit são baseados em livros.\n"
     ]
    }
   ],
   "source": [
    "chat = chat_model.start_chat(\n",
    "    context=\"Meu nome é José. Você é meu assistente pessoal. Meus filmes preferidos são Senhor dos Anéis e o Hobbit.\",\n",
    "    examples=[\n",
    "        InputOutputTextPair(\n",
    "            input_text=\"Para quem você trabalha?\",\n",
    "            output_text=\"Eu trabalho para José.\"\n",
    "        ),\n",
    "        InputOutputTextPair(\n",
    "            input_text=\"Do que eu gosto?\",\n",
    "            output_text=\"José gosta de assistir filmes.\"\n",
    "        ),\n",
    "    ],\n",
    "    temperature=0.3,\n",
    "    max_output_tokens=200,\n",
    "    top_p=0.8,\n",
    "    top_k=40,\n",
    ")\n",
    "resposta = chat.send_message(\"Os meus filmes favoritos são baseados em livros?\")\n",
    "print(resposta.text)"
   ]
  },
  {
   "cell_type": "code",
   "execution_count": 32,
   "metadata": {
    "id": "685184ee4159"
   },
   "outputs": [
    {
     "name": "stdout",
     "output_type": "stream",
     "text": [
      "A trilogia O Senhor dos Anéis foi publicada entre 1954 e 1955, e a trilogia O Hobbit foi publicada em 1937.\n"
     ]
    }
   ],
   "source": [
    "resposta = chat.send_message(\"Quando eles foram publicados?\")\n",
    "print(resposta.text)"
   ]
  },
  {
   "cell_type": "markdown",
   "metadata": {
    "id": "67b6eef99f56"
   },
   "source": [
    "## Modelo de embeddings com `textembedding-gecko@001`"
   ]
  },
  {
   "cell_type": "markdown",
   "metadata": {
    "id": "64a58515878c"
   },
   "source": [
    "Os embeddings de texto são uma representação vetorial densa, geralmente de baixa dimensão, de uma parte do conteúdo, de modo que, se duas partes do conteúdo forem semanticamente semelhantes, seus respectivos embeddings estarão localizadas próximas uma da outra no espaço vetorial de embeddings. Essa representação pode ser usada para resolver tarefas comuns de NLP, como:\n",
    "\n",
    "* **Pesquisa semântica**: busca classificada por similaridade semântica.\n",
    "* **Recomendação**: retorna itens com atributos de texto semelhantes ao texto fornecido.\n",
    "* **Classificação**: retorna a classe de itens cujos atributos de texto são semelhantes ao texto fornecido.\n",
    "* **Clustering**: itens de cluster cujos atributos de texto são semelhantes ao texto fornecido.\n",
    "* **Detecção de outliers**: retorna itens nos quais os atributos de texto são menos relacionados ao texto fornecido.\n",
    "\n",
    "Consulte a [documentação do modelo de incorporação de texto](https://cloud.google.com/vertex-ai/docs/generative-ai/embeddings/get-text-embeddings) para obter mais informações."
   ]
  },
  {
   "cell_type": "code",
   "execution_count": 33,
   "metadata": {
    "id": "f0f175d5b02a",
    "scrolled": true,
    "tags": []
   },
   "outputs": [
    {
     "name": "stdout",
     "output_type": "stream",
     "text": [
      "Length = 768\n",
      "[-0.01639547012746334, 0.02821306139230728, -0.007420339155942202, 0.00760662043467164, -0.003194591263309121, 0.022162694483995438, 0.061105381697416306, 0.016299400478601456, 0.004709735978394747, 0.016946032643318176, -0.03214501962065697, 0.00207907659932971, 0.05950087681412697, 0.03742537274956703, -0.03133414685726166, -0.005218021105974913, -0.0338544100522995, -0.058191731572151184, 0.03753908723592758, 0.013025281950831413, -0.11120262742042542, -0.02822561375796795, 0.006087857764214277, -0.011211476288735867, -0.03824997320771217, -0.09299225360155106, 0.011621251702308655, -0.03793756291270256, -0.022083207964897156, -0.022847289219498634, 0.011238997802138329, -0.003007621970027685, -0.034258950501680374, 0.024516986683011055, -0.011172025464475155, 0.09178024530410767, -0.009569153189659119, 0.013830818235874176, 0.0360395684838295, 0.0184614397585392, 0.05208423733711243, -0.026761258020997047, 0.018888704478740692, -0.02731252834200859, -0.02803122252225876, -0.00862429291009903, -0.04145915061235428, 0.01533226203173399, -0.036594901233911514, 0.0096445232629776, -0.006158024538308382, -0.019688613712787628, 0.009533517062664032, 0.045277588069438934, -0.007026738952845335, -0.0012118121376261115, -0.026966189965605736, 0.02386094443500042, -0.014587605372071266, -0.015281129628419876, -0.021013008430600166, 0.019850771874189377, -0.00695460382848978, -0.06389161199331284, -0.0165601447224617, -0.005017185118049383, 0.05865802988409996, 0.008272120729088783, 0.011628075502812862, -0.03337479755282402, 0.006262908224016428, 0.045454900711774826, 0.02740849182009697, 0.005865961778908968, -0.018026044592261314, 0.031256984919309616, -0.005670159123837948, 0.020085550844669342, 0.01018168218433857, -0.04972533509135246, -0.027113061398267746, -0.0807323306798935, -0.03651093319058418, -0.05713999271392822, 0.02808726765215397, 0.010415804572403431, 0.024754872545599937, 0.0020279341842979193, -0.017784712836146355, 0.07945521920919418, -0.0676744282245636, -0.010007157921791077, 0.010560027323663235, 0.02220519445836544, -0.006054648198187351, -0.004583402536809444, -0.008636413142085075, -0.041745781898498535, -0.008057856000959873, 0.010091019794344902, 0.03047667071223259, -0.03571922704577446, 0.019846534356474876, -0.019086003303527832, 0.03154342249035835, 0.06141036003828049, -0.009178649634122849, 0.022976700216531754, -0.0559714250266552, -0.08484039455652237, -0.05422443896532059, 0.0045003741979599, -0.026356017217040062, 0.02966047264635563, 0.02014671079814434, -0.023837333545088768, 0.009349389001727104, -0.05378984287381172, 0.02286624163389206, 0.05467166006565094, -0.015047997236251831, -0.025338487699627876, -0.016369299963116646, -0.004041627515107393, 0.0474420040845871, 0.00019993969181086868, -0.00519549660384655, -0.033261738717556, -0.023847172036767006, -0.028920533135533333, 0.07552093267440796, -0.0106290802359581, 0.035489801317453384, -0.030967991799116135, -0.02028057351708412, 0.021450204774737358, -0.007605917286127806, -0.03318476676940918, 0.00030751872691325843, 0.05177811160683632, -0.021831437945365906, 0.03578907623887062, 0.01922868937253952, 0.045710448175668716, 0.015153415501117706, -0.023473195731639862, 0.029426604509353638, -0.04623647779226303, -0.04577202349901199, -0.035876963287591934, 0.02557532861828804, -0.029224786907434464, 0.02367934212088585, 0.015769312158226967, 0.056635450571775436, 0.04112883657217026, 0.0010076345643028617, 0.04074555262923241, -0.026807235553860664, -0.029148846864700317, 0.006480865646153688, -0.015724703669548035, -0.04729945957660675, 0.018787186592817307, 0.012542200274765491, -0.020066674798727036, -0.012238468043506145, 0.03805331513285637, -0.0031456314027309418, 0.038174789398908615, 0.02097613364458084, -0.1211666390299797, -0.015027416869997978, -0.004370680544525385, 0.07260297238826752, -0.05459379777312279, -0.02104184776544571, 0.017550000920891762, -0.005330216139554977, 0.010405970737338066, -0.03287146985530853, -0.058140769600868225, 0.00032452167943120003, 0.03601475805044174, -0.044375017285346985, 0.008949908427894115, -0.02844974398612976, -0.08036144822835922, -0.019446641206741333, 0.07314500212669373, -0.03796645253896713, -0.013767712749540806, -0.016311457380652428, -0.008108858950436115, -0.02592630125582218, -0.005626286845654249, 0.014658677391707897, -0.08898643404245377, -0.02396376058459282, 0.04581963270902634, 0.034721363335847855, -0.0456976480782032, 0.014742553234100342, 0.03212705999612808, -0.012099778279662132, 0.012961184605956078, -0.060322344303131104, 0.06584921479225159, -0.03381120786070824, -0.014281751587986946, -0.0005707406089641154, -0.023430831730365753, -0.005591949447989464, -0.006971918512135744, 0.004419784061610699, -0.04588242247700691, 0.009704998694360256, 0.03682558611035347, -0.06199938803911209, -0.011444870382547379, -0.01722010225057602, 0.057204846292734146, -0.02258065901696682, 0.04396098479628563, 0.02704644575715065, 0.027678107842803, 0.052156101912260056, 0.010198438540101051, 0.0382659025490284, -0.022632744163274765, -0.023473123088479042, 0.02254105731844902, 0.0015976845752447844, -0.003628536593168974, 0.03047803044319153, 0.03565480560064316, 0.030788589268922806, 0.02088935114443302, -0.034692831337451935, 0.050367143005132675, -0.010057141073048115, 0.05685599520802498, -0.013709098100662231, 0.031230952590703964, -0.0380980484187603, 0.04895184561610222, -0.025399085134267807, 0.006639954634010792, 0.0005803302046842873, 0.02072686143219471, 0.024824965745210648, -0.08396191149950027, -0.005803113803267479, 0.016027826815843582, -0.012032857164740562, -0.0012904286850243807, -0.011912520974874496, 0.05733293667435646, -0.01865369640290737, 0.005634687375277281, 0.05370364710688591, 0.013737885281443596, 0.035763826221227646, 0.10154444724321365, -0.05946624279022217, 0.005930887535214424, -0.047565218061208725, 0.0010615070350468159, 0.036573559045791626, -0.02059449627995491, -0.0037099160254001617, 0.03591478243470192, 0.05925622209906578, 0.054015032947063446, -0.006379526108503342, 0.005300663411617279, -0.05898566544055939, 0.0006907113129273057, 0.04540496692061424, 0.016318798065185547, 0.04041742905974388, -0.025391504168510437, 0.011743945069611073, 0.032889120280742645, 0.004480871371924877, 0.024587050080299377, 0.005614080466330051, 0.019370920956134796, -0.07327062636613846, -0.026385005563497543, 0.010551804676651955, -0.02304590493440628, -0.038728050887584686, 0.04853477329015732, 0.04151870682835579, -0.0032474694307893515, 0.05691871792078018, -0.04580247029662132, -0.03421732038259506, -0.009823601692914963, 0.01135808415710926, 0.04158826917409897, 0.0047648390755057335, -0.03507332503795624, -0.049175966531038284, -0.0546097457408905, -0.0007773709949105978, -0.004060770850628614, 0.02833663299679756, 0.02948419190943241, 0.0055440571159124374, 0.011033749207854271, -0.037746284157037735, 0.004775641486048698, -0.024205993860960007, -0.00430572684854269, 0.035805974155664444, -0.005322284996509552, -0.05839468166232109, 0.021960418671369553, -0.05156528204679489, -0.020570186898112297, 0.1248362734913826, -0.008073590695858002, 0.011564361862838268, -0.023804128170013428, -0.030740827322006226, 0.0032488969154655933, 0.10160818696022034, -0.050493545830249786, -0.001149477786384523, 0.032930050045251846, -0.02537516877055168, 0.03153249993920326, 0.07168341428041458, -0.0016643693670630455, -0.03352030739188194, 0.015089443884789944, 0.009178747422993183, -0.11110441386699677, 0.004566438030451536, -0.023422785103321075, -0.037256862968206406, -0.0030389053281396627, -0.06755954772233963, 0.028416616842150688, -0.07245278358459473, 0.008167344145476818, -0.02494034357368946, -0.007235748693346977, -0.012820474803447723, 0.02238832227885723, -0.050998538732528687, 0.08660518378019333, -0.0408683679997921, -0.013117088936269283, -0.0065065305680036545, -0.017655793577432632, 0.022530576214194298, 0.019765837118029594, -0.023735588416457176, 0.038660261780023575, -0.05393658205866814, 0.02144368551671505, 0.020401649177074432, 0.03333554416894913, -0.07389943301677704, 0.0703456848859787, 0.015226921066641808, -0.011094972491264343, -0.0070067294873297215, -0.0005673054838553071, -0.007976116612553596, -0.08529870957136154, -0.09421437978744507, 0.018276704475283623, -0.0011245935456827283, 0.03922661393880844, 0.009230835363268852, -0.029247567057609558, -0.02750341221690178, 0.02896694280207157, 0.014282820746302605, 1.623661046323832e-05, -0.0033454825170338154, 0.025265803560614586, 0.022032083943486214, 0.023662542924284935, 0.02997046522796154, -0.03064154088497162, -0.0056201075203716755, 0.029364829882979393, 4.0624712710268795e-05, -0.0387289859354496, 0.023198813199996948, 0.05292096734046936, -0.008146912790834904, 0.008432136848568916, -0.07140782475471497, 0.007939969189465046, 0.04071081057190895, 0.016921769827604294, -0.013324538245797157, -0.05284467339515686, 0.0014328672550618649, -0.024847960099577904, 0.016618024557828903, 0.07361529767513275, -0.0035662699956446886, -0.00963133480399847, -0.016198480501770973, 0.009678130969405174, 0.02953977696597576, 0.03498376905918121, 0.006787128280848265, -0.005909430794417858, -0.008326989598572254, -0.003715507686138153, 0.032211825251579285, 0.0244752150028944, -0.0015146476216614246, -0.06416879594326019, -0.013475784100592136, -0.012201893143355846, -0.013364824466407299, -0.013421492651104927, -0.06614305078983307, 0.04987229034304619, -0.017051316797733307, -0.0326373390853405, -0.04236176982522011, 0.00692848302423954, 0.005345825105905533, -0.018277602270245552, -0.005571447312831879, -0.043417252600193024, 0.09355693310499191, 0.07842332124710083, 0.04531344398856163, -0.012750101275742054, -0.029878193512558937, 0.01127073634415865, -0.04551703855395317, -0.010331885889172554, 0.021610647439956665, -0.029736490920186043, -0.008243870921432972, -0.031239725649356842, -0.07998321950435638, 0.033456698060035706, 0.022942792624235153, -0.025467360392212868, 0.034906696528196335, 0.10253733396530151, -0.004093501251190901, 0.027546972036361694, -0.005493285600095987, -0.009332990273833275, -0.01947890967130661, 0.007719752378761768, -0.013528136536478996, -0.031608134508132935, -0.03604046627879143, 0.012873093597590923, 0.02291519194841385, -0.04694751277565956, 0.05151761695742607, 0.01618553325533867, -0.012337944470345974, 0.022147832438349724, 0.01274525560438633, 0.05547531694173813, -0.016030196100473404, 0.007630934473127127, 0.017223749309778214, 0.08881886303424835, 0.021328149363398552, 0.042615555226802826, 0.013197850435972214, -0.00017480520182289183, -0.05576436221599579, -0.06213429942727089, 0.008942321874201298, -0.0467260517179966, -0.023606395348906517, -0.02604014053940773, -0.004368713591247797, -0.0476260669529438, -0.04518181458115578, 0.013088221661746502, 0.001401177141815424, 0.008294040337204933, 0.01407209224998951, 0.0480264350771904, 0.035004373639822006, 0.007748423609882593, -0.006899326108396053, 0.06105433404445648, 0.030711960047483444, 0.03038623556494713, 0.05002942308783531, -0.011467832140624523, 0.04169305041432381, 0.040033936500549316, -0.03175293654203415, 0.013660091906785965, 0.02667185291647911, -0.061312559992074966, -0.05858937278389931, 0.04530803859233856, -0.06156877428293228, 0.09181851893663406, 0.012347834184765816, -0.040741562843322754, -0.013630405068397522, -0.05053740367293358, 0.028538117185235023, -0.030298134312033653, -0.0016973770689219236, 0.05202567204833031, 0.00210215849801898, -0.03846338391304016, -0.03265153616666794, 0.03482607752084732, 0.015415128320455551, 0.03579941391944885, 0.03461644798517227, -0.013069123961031437, -0.014254387468099594, 0.025927089154720306, -0.048036057502031326, -0.03349266201257706, 0.028521420434117317, 0.005511697847396135, 0.0096103111281991, -0.020970158278942108, 0.07251870632171631, 0.02001652680337429, -0.004736367147415876, 0.05251968652009964, 0.037644606083631516, -0.05008670315146446, 0.05583500862121582, 0.002000111388042569, -0.030800936743617058, 0.051573485136032104, 0.024845246225595474, 0.02014385722577572, 0.02351040206849575, -0.009000050835311413, 0.05634898692369461, -0.003270752029493451, -0.04736984148621559, 0.09129056334495544, 0.006747609470039606, -0.06307397782802582, 0.0205027274787426, -0.03642767667770386, -0.027353636920452118, -0.013555030338466167, 0.005455700680613518, 0.034503474831581116, -0.01604708470404148, -0.004922598600387573, 0.05860414355993271, -0.09046797454357147, 0.030117908492684364, 0.016432063654065132, -0.016302000731229782, 0.04942566901445389, -0.03157736733555794, -0.04877464845776558, -0.003078181529417634, 0.026008255779743195, 0.017461227253079414, 0.015800384804606438, -0.03976225480437279, -0.02076086588203907, 0.007977219298481941, -7.062190707074478e-05, -0.007724380120635033, -0.05774545297026634, -0.023805314674973488, 0.02233959175646305, -0.04160550236701965, -0.0013130453880876303, 0.03237851709127426, -0.03610093519091606, 0.01537736039608717, -0.03434775397181511, 0.030137475579977036, -0.054581645876169205, -0.0018700052751228213, -0.007973753847181797, -0.008404592983424664, -0.01979350857436657, 0.01821708306670189, 0.007569320034235716, 0.007204284891486168, 0.002437576651573181, -0.022401297464966774, 0.06673195213079453, 0.04914474114775658, -0.024247441440820694, 0.02754196710884571, -0.01806233450770378, 0.01441817544400692, 0.031391553580760956, -0.042182739824056625, 0.05072949081659317, 0.060250915586948395, 0.04439444839954376, 0.020267749205231667, -0.0035504712723195553, 0.010939676314592361, -0.017951400950551033, -0.05342143028974533, 0.027732742950320244, 0.03831741586327553, 0.0279068760573864, 0.07395676523447037, -0.005212333984673023, 0.006261398550122976, -0.04427304491400719, 0.001829827786423266, 0.009272483177483082, 0.0024417690001428127, 0.02678755857050419, -0.01808735728263855, -0.008097795769572258, -0.007221151143312454, 0.021270034834742546, -0.03569886460900307, -0.033136460930109024, 0.047667600214481354, 0.001169525901786983, -0.02708239108324051, -0.012143935076892376, 0.053545232862234116, 0.031545914709568024, 0.02578485757112503, 0.03560768440365791, -0.0017770844278857112, -0.013766815885901451, -0.010781080462038517, -0.019975151866674423, -0.022756047546863556, -0.060150351375341415, 0.022319769486784935, 0.021746119484305382, -0.062442149966955185, -0.04648371413350105, -0.04198198392987251, -0.09017998725175858, 0.025172613561153412, 0.0067385341972112656, -0.025744009763002396, 0.05751936882734299, -0.08074728399515152, 0.023938264697790146, 0.03405528515577316, -0.012185481376945972, 0.011132539249956608, 0.05060562491416931, -0.05279561132192612, 0.029079684987664223, -0.04542310908436775, 0.02333693951368332, 0.03516441956162453, 0.025060968473553658, 0.000639602541923523, -0.044998884201049805, 0.07199907302856445, -0.020845038816332817, 0.008660001680254936, 0.00847615860402584, 0.032382555305957794, 0.0058789923787117004, 0.021463623270392418, 0.001339987968094647, -0.06727492809295654, 0.037427354604005814, -0.046575166285037994, -0.010661737062036991, 0.02869715355336666, -0.03432561457157135, 0.05750836059451103, 0.004385335836559534, -0.0005011324537917972, -0.02566922828555107, -0.02523752488195896, 0.007343041244894266, -0.021407386288046837, -0.015352833084762096, -0.03845499828457832, -0.036088697612285614, -0.01634856127202511, 0.047737330198287964, 0.0021041403524577618, 0.04417607560753822, -0.036157798022031784, 0.03539523109793663, 0.04998771473765373, 0.021609583869576454, 0.0634632334113121, -0.014331313781440258, -0.05180981010198593, -0.09548091143369675, -0.03605411946773529, -0.05949854478240013, 0.0012260520597919822, 0.002268538810312748, -0.0012576369335874915, 0.04598037153482437, 0.008286870084702969, 0.08249357342720032, -0.016459768638014793, 0.019526852294802666, 0.014898563735187054, -0.0034371335059404373, 0.0038102830294519663, 0.012518495321273804, 0.03412032127380371, -0.04838315770030022, -0.031710028648376465, -0.0184665285050869, 0.019411955028772354, -0.07435990124940872, 0.01702895015478134, 0.0061625405214726925, -0.035249654203653336, -0.011786181479692459, 0.00042403049883432686, 0.019464831799268723, -0.0007970568258315325, -0.022955652326345444, 0.04055953770875931, 0.0387856625020504, 0.013961483724415302, -0.05114822834730148, -0.0012320849345996976, 0.022362539544701576, -0.010791969485580921, -0.02994745783507824, 0.05852549150586128, 0.0066669173538684845, 0.005101065617054701, 0.005004729609936476, -0.07211534678936005, -0.006983638275414705, -0.07191070914268494, 0.05102056264877319, 0.02763681672513485, 0.005104368552565575, -0.031863171607255936, 0.03138932213187218, 0.05691630393266678, 0.010692814365029335, -0.04435595124959946, -0.0002293272700626403, 0.0005949141341261566, 0.010982701554894447, -0.06650528311729431, 0.026814443990588188, -0.002617982914671302, -0.0020697363652288914, -0.03239516541361809, -0.05451160669326782]\n"
     ]
    }
   ],
   "source": [
    "embedding_model = TextEmbeddingModel.from_pretrained(\"textembedding-gecko@001\")\n",
    "\n",
    "embeddings = embedding_model.get_embeddings([\"O que é a vida?\"])\n",
    "\n",
    "for embedding in embeddings:\n",
    "    vector = embedding.values\n",
    "    print(f\"Length = {len(vector)}\")\n",
    "    print(vector)"
   ]
  },
  {
   "cell_type": "markdown",
   "metadata": {
    "id": "601bd7e7ef1d"
   },
   "source": [
    "#### Embeddings e DataFrames Pandas"
   ]
  },
  {
   "cell_type": "markdown",
   "metadata": {
    "id": "9e69d2ba877f"
   },
   "source": [
    "Caso seu texto esteja armazenado em um DataFrame, você pode criar uma nova coluna com os embeddings com o exemplo abaixo."
   ]
  },
  {
   "cell_type": "code",
   "execution_count": 34,
   "metadata": {
    "id": "d99f08bab254"
   },
   "outputs": [
    {
     "data": {
      "text/html": [
       "<div>\n",
       "<style scoped>\n",
       "    .dataframe tbody tr th:only-of-type {\n",
       "        vertical-align: middle;\n",
       "    }\n",
       "\n",
       "    .dataframe tbody tr th {\n",
       "        vertical-align: top;\n",
       "    }\n",
       "\n",
       "    .dataframe thead th {\n",
       "        text-align: right;\n",
       "    }\n",
       "</style>\n",
       "<table border=\"1\" class=\"dataframe\">\n",
       "  <thead>\n",
       "    <tr style=\"text-align: right;\">\n",
       "      <th></th>\n",
       "      <th>text</th>\n",
       "    </tr>\n",
       "  </thead>\n",
       "  <tbody>\n",
       "    <tr>\n",
       "      <th>0</th>\n",
       "      <td>eu realmente curti o filme de ontem a noite</td>\n",
       "    </tr>\n",
       "    <tr>\n",
       "      <th>1</th>\n",
       "      <td>assistimos muitas cenas acrobáticas ontem</td>\n",
       "    </tr>\n",
       "    <tr>\n",
       "      <th>2</th>\n",
       "      <td>eu me diverti escrevendo o meu primeiro progra...</td>\n",
       "    </tr>\n",
       "    <tr>\n",
       "      <th>3</th>\n",
       "      <td>uma tremenda sensação de alívio ao finalmente ...</td>\n",
       "    </tr>\n",
       "    <tr>\n",
       "      <th>4</th>\n",
       "      <td>Oh Romeu, Romeu, porque es tu Romeu?</td>\n",
       "    </tr>\n",
       "  </tbody>\n",
       "</table>\n",
       "</div>"
      ],
      "text/plain": [
       "                                                text\n",
       "0        eu realmente curti o filme de ontem a noite\n",
       "1          assistimos muitas cenas acrobáticas ontem\n",
       "2  eu me diverti escrevendo o meu primeiro progra...\n",
       "3  uma tremenda sensação de alívio ao finalmente ...\n",
       "4               Oh Romeu, Romeu, porque es tu Romeu?"
      ]
     },
     "execution_count": 34,
     "metadata": {},
     "output_type": "execute_result"
    }
   ],
   "source": [
    "text = [\n",
    "    \"eu realmente curti o filme de ontem a noite\",\n",
    "    \"assistimos muitas cenas acrobáticas ontem\",\n",
    "    \"eu me diverti escrevendo o meu primeiro programa em Python\",\n",
    "    \"uma tremenda sensação de alívio ao finalmente fazer meus scripts Nodejs rodarem sem erros!\",\n",
    "    \"Oh Romeu, Romeu, porque es tu Romeu?\"\n",
    "]\n",
    "\n",
    "df = pd.DataFrame(text, columns=[\"text\"])\n",
    "df"
   ]
  },
  {
   "cell_type": "markdown",
   "metadata": {
    "id": "fabd92d8ddb6"
   },
   "source": [
    "Crie uma nova coluna, `embeddings`, usando a função [apply](https://pandas.pydata.org/docs/reference/api/pandas.DataFrame.apply.html) em pandas com o modelo de embeddings."
   ]
  },
  {
   "cell_type": "code",
   "execution_count": 35,
   "metadata": {
    "id": "096cbf3f2698"
   },
   "outputs": [
    {
     "data": {
      "text/html": [
       "<div>\n",
       "<style scoped>\n",
       "    .dataframe tbody tr th:only-of-type {\n",
       "        vertical-align: middle;\n",
       "    }\n",
       "\n",
       "    .dataframe tbody tr th {\n",
       "        vertical-align: top;\n",
       "    }\n",
       "\n",
       "    .dataframe thead th {\n",
       "        text-align: right;\n",
       "    }\n",
       "</style>\n",
       "<table border=\"1\" class=\"dataframe\">\n",
       "  <thead>\n",
       "    <tr style=\"text-align: right;\">\n",
       "      <th></th>\n",
       "      <th>text</th>\n",
       "      <th>embeddings</th>\n",
       "    </tr>\n",
       "  </thead>\n",
       "  <tbody>\n",
       "    <tr>\n",
       "      <th>0</th>\n",
       "      <td>eu realmente curti o filme de ontem a noite</td>\n",
       "      <td>[-0.0292018074542284, -0.013355548493564129, 0...</td>\n",
       "    </tr>\n",
       "    <tr>\n",
       "      <th>1</th>\n",
       "      <td>assistimos muitas cenas acrobáticas ontem</td>\n",
       "      <td>[-0.07582987844944, -0.03487563878297806, -0.0...</td>\n",
       "    </tr>\n",
       "    <tr>\n",
       "      <th>2</th>\n",
       "      <td>eu me diverti escrevendo o meu primeiro progra...</td>\n",
       "      <td>[0.003031090134754777, -0.0017963622231036425,...</td>\n",
       "    </tr>\n",
       "    <tr>\n",
       "      <th>3</th>\n",
       "      <td>uma tremenda sensação de alívio ao finalmente ...</td>\n",
       "      <td>[-0.01567486673593521, -0.012543657794594765, ...</td>\n",
       "    </tr>\n",
       "    <tr>\n",
       "      <th>4</th>\n",
       "      <td>Oh Romeu, Romeu, porque es tu Romeu?</td>\n",
       "      <td>[0.0013989984290674329, -0.015031535178422928,...</td>\n",
       "    </tr>\n",
       "  </tbody>\n",
       "</table>\n",
       "</div>"
      ],
      "text/plain": [
       "                                                text  \\\n",
       "0        eu realmente curti o filme de ontem a noite   \n",
       "1          assistimos muitas cenas acrobáticas ontem   \n",
       "2  eu me diverti escrevendo o meu primeiro progra...   \n",
       "3  uma tremenda sensação de alívio ao finalmente ...   \n",
       "4               Oh Romeu, Romeu, porque es tu Romeu?   \n",
       "\n",
       "                                          embeddings  \n",
       "0  [-0.0292018074542284, -0.013355548493564129, 0...  \n",
       "1  [-0.07582987844944, -0.03487563878297806, -0.0...  \n",
       "2  [0.003031090134754777, -0.0017963622231036425,...  \n",
       "3  [-0.01567486673593521, -0.012543657794594765, ...  \n",
       "4  [0.0013989984290674329, -0.015031535178422928,...  "
      ]
     },
     "execution_count": 35,
     "metadata": {},
     "output_type": "execute_result"
    }
   ],
   "source": [
    "df[\"embeddings\"] = [\n",
    "    emb.values for emb in embedding_model.get_embeddings(df.text.values)\n",
    "]\n",
    "df"
   ]
  },
  {
   "cell_type": "markdown",
   "metadata": {
    "id": "69ebe1a6514d"
   },
   "source": [
    "#### Analisando a similaridade de exemplos de texto com `similaridade de cosseno`"
   ]
  },
  {
   "cell_type": "markdown",
   "metadata": {
    "id": "04d0f13acedb"
   },
   "source": [
    "Ao converter texto em embeddings, você pode calcular pontuações de similaridade. Há muitas maneiras de calcular pontuações de similaridade, e uma técnica comum é usar [similaridade de cosseno](https://en.wikipedia.org/wiki/Cosine_similarity).\n",
    "\n",
    "No exemplo acima, duas das sentenças na coluna `text` referem-se a gostar de um _filme_, e as outras duas se relacionam a gostar de _programar_. As pontuações de similaridade de cosseno devem ser mais altas (próximas de 1,0) ao fazer comparações pareadas entre sentenças semanticamente relacionadas, e as pontuações devem ser menores entre sentenças semanticamente diferentes.\n",
    "\n",
    "A saída do DataFrame abaixo mostra as pontuações de similaridade de cosseno resultantes entre os embeddings:"
   ]
  },
  {
   "cell_type": "code",
   "execution_count": 36,
   "metadata": {
    "id": "dc499dae438a"
   },
   "outputs": [
    {
     "data": {
      "text/html": [
       "<div>\n",
       "<style scoped>\n",
       "    .dataframe tbody tr th:only-of-type {\n",
       "        vertical-align: middle;\n",
       "    }\n",
       "\n",
       "    .dataframe tbody tr th {\n",
       "        vertical-align: top;\n",
       "    }\n",
       "\n",
       "    .dataframe thead th {\n",
       "        text-align: right;\n",
       "    }\n",
       "</style>\n",
       "<table border=\"1\" class=\"dataframe\">\n",
       "  <thead>\n",
       "    <tr style=\"text-align: right;\">\n",
       "      <th></th>\n",
       "      <th>eu realmente curti o filme de ontem a noite</th>\n",
       "      <th>assistimos muitas cenas acrobáticas ontem</th>\n",
       "      <th>eu me diverti escrevendo o meu primeiro programa em Python</th>\n",
       "      <th>uma tremenda sensação de alívio ao finalmente fazer meus scripts Nodejs rodarem sem erros!</th>\n",
       "      <th>Oh Romeu, Romeu, porque es tu Romeu?</th>\n",
       "    </tr>\n",
       "  </thead>\n",
       "  <tbody>\n",
       "    <tr>\n",
       "      <th>eu realmente curti o filme de ontem a noite</th>\n",
       "      <td>1.000000</td>\n",
       "      <td>0.695743</td>\n",
       "      <td>0.653735</td>\n",
       "      <td>0.651957</td>\n",
       "      <td>0.579921</td>\n",
       "    </tr>\n",
       "    <tr>\n",
       "      <th>assistimos muitas cenas acrobáticas ontem</th>\n",
       "      <td>0.695743</td>\n",
       "      <td>1.000000</td>\n",
       "      <td>0.570351</td>\n",
       "      <td>0.639637</td>\n",
       "      <td>0.546992</td>\n",
       "    </tr>\n",
       "    <tr>\n",
       "      <th>eu me diverti escrevendo o meu primeiro programa em Python</th>\n",
       "      <td>0.653735</td>\n",
       "      <td>0.570351</td>\n",
       "      <td>1.000000</td>\n",
       "      <td>0.745784</td>\n",
       "      <td>0.533522</td>\n",
       "    </tr>\n",
       "    <tr>\n",
       "      <th>uma tremenda sensação de alívio ao finalmente fazer meus scripts Nodejs rodarem sem erros!</th>\n",
       "      <td>0.651957</td>\n",
       "      <td>0.639637</td>\n",
       "      <td>0.745784</td>\n",
       "      <td>1.000000</td>\n",
       "      <td>0.569998</td>\n",
       "    </tr>\n",
       "    <tr>\n",
       "      <th>Oh Romeu, Romeu, porque es tu Romeu?</th>\n",
       "      <td>0.579921</td>\n",
       "      <td>0.546992</td>\n",
       "      <td>0.533522</td>\n",
       "      <td>0.569998</td>\n",
       "      <td>1.000000</td>\n",
       "    </tr>\n",
       "  </tbody>\n",
       "</table>\n",
       "</div>"
      ],
      "text/plain": [
       "                                                    eu realmente curti o filme de ontem a noite  \\\n",
       "eu realmente curti o filme de ontem a noite                                            1.000000   \n",
       "assistimos muitas cenas acrobáticas ontem                                              0.695743   \n",
       "eu me diverti escrevendo o meu primeiro program...                                     0.653735   \n",
       "uma tremenda sensação de alívio ao finalmente f...                                     0.651957   \n",
       "Oh Romeu, Romeu, porque es tu Romeu?                                                   0.579921   \n",
       "\n",
       "                                                    assistimos muitas cenas acrobáticas ontem  \\\n",
       "eu realmente curti o filme de ontem a noite                                          0.695743   \n",
       "assistimos muitas cenas acrobáticas ontem                                            1.000000   \n",
       "eu me diverti escrevendo o meu primeiro program...                                   0.570351   \n",
       "uma tremenda sensação de alívio ao finalmente f...                                   0.639637   \n",
       "Oh Romeu, Romeu, porque es tu Romeu?                                                 0.546992   \n",
       "\n",
       "                                                    eu me diverti escrevendo o meu primeiro programa em Python  \\\n",
       "eu realmente curti o filme de ontem a noite                                                  0.653735            \n",
       "assistimos muitas cenas acrobáticas ontem                                                    0.570351            \n",
       "eu me diverti escrevendo o meu primeiro program...                                           1.000000            \n",
       "uma tremenda sensação de alívio ao finalmente f...                                           0.745784            \n",
       "Oh Romeu, Romeu, porque es tu Romeu?                                                         0.533522            \n",
       "\n",
       "                                                    uma tremenda sensação de alívio ao finalmente fazer meus scripts Nodejs rodarem sem erros!  \\\n",
       "eu realmente curti o filme de ontem a noite                                                  0.651957                                            \n",
       "assistimos muitas cenas acrobáticas ontem                                                    0.639637                                            \n",
       "eu me diverti escrevendo o meu primeiro program...                                           0.745784                                            \n",
       "uma tremenda sensação de alívio ao finalmente f...                                           1.000000                                            \n",
       "Oh Romeu, Romeu, porque es tu Romeu?                                                         0.569998                                            \n",
       "\n",
       "                                                    Oh Romeu, Romeu, porque es tu Romeu?  \n",
       "eu realmente curti o filme de ontem a noite                                     0.579921  \n",
       "assistimos muitas cenas acrobáticas ontem                                       0.546992  \n",
       "eu me diverti escrevendo o meu primeiro program...                              0.533522  \n",
       "uma tremenda sensação de alívio ao finalmente f...                              0.569998  \n",
       "Oh Romeu, Romeu, porque es tu Romeu?                                            1.000000  "
      ]
     },
     "execution_count": 36,
     "metadata": {},
     "output_type": "execute_result"
    }
   ],
   "source": [
    "cos_sim_array = cosine_similarity(list(df.embeddings.values))\n",
    "\n",
    "# display as DataFrame\n",
    "df = pd.DataFrame(cos_sim_array, index=text, columns=text)\n",
    "df"
   ]
  },
  {
   "cell_type": "markdown",
   "metadata": {
    "id": "97a5e2e32df5"
   },
   "source": [
    "Para tornar isso mais fácil de entender, você pode usar um mapa de calor. Naturalmente, o texto é mais semelhante quando são idênticos (pontuação de 1,0). As próximas pontuações mais altas são quando as sentenças são semanticamente semelhantes. As pontuações mais baixas são quando as sentenças são bastante diferentes em significado."
   ]
  },
  {
   "cell_type": "code",
   "execution_count": 37,
   "metadata": {
    "id": "560ea2a11535"
   },
   "outputs": [
    {
     "data": {
      "text/plain": [
       "[Text(0.5, 1, 'eu realmente curti o filme de ontem a noite'),\n",
       " Text(1.5, 1, 'assistimos muitas cenas acrobáticas ontem'),\n",
       " Text(2.5, 1, 'eu me diverti escrevendo o meu primeiro programa em Python'),\n",
       " Text(3.5, 1, 'uma tremenda sensação de alívio ao finalmente fazer meus scripts Nodejs rodarem sem erros!'),\n",
       " Text(4.5, 1, 'Oh Romeu, Romeu, porque es tu Romeu?')]"
      ]
     },
     "execution_count": 37,
     "metadata": {},
     "output_type": "execute_result"
    },
    {
     "data": {
      "image/png": "[encoded data removed]",
      "text/plain": [
       "<Figure size 640x480 with 2 Axes>"
      ]
     },
     "metadata": {},
     "output_type": "display_data"
    }
   ],
   "source": [
    "ax = sns.heatmap(df, annot=True, cmap=\"crest\")\n",
    "ax.xaxis.tick_top()\n",
    "ax.set_xticklabels(text, rotation=90)"
   ]
  }
 ],
 "metadata": {
  "colab": {
   "name": "intro_palm_api.ipynb",
   "toc_visible": true
  },
  "environment": {
   "kernel": "py310",
   "name": "pytorch-gpu.2-0.m110",
   "type": "gcloud",
   "uri": "gcr.io/deeplearning-platform-release/pytorch-gpu.2-0:m110"
  },
  "kernelspec": {
   "display_name": "py310",
   "language": "python",
   "name": "py310"
  },
  "language_info": {
   "codemirror_mode": {
    "name": "ipython",
    "version": 3
   },
   "file_extension": ".py",
   "mimetype": "text/x-python",
   "name": "python",
   "nbconvert_exporter": "python",
   "pygments_lexer": "ipython3",
   "version": "3.10.12"
  }
 },
 "nbformat": 4,
 "nbformat_minor": 4
}
